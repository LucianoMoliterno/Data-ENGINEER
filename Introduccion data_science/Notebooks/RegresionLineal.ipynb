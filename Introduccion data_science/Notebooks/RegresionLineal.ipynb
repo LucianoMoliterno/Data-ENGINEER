{
  "cells": [
    {
      "cell_type": "markdown",
      "id": "e28e2ab2",
      "metadata": {
        "id": "e28e2ab2"
      },
      "source": [
        "# Regresión Lineal\n",
        "\n",
        "**Luciano Moliterno - Febrero 2025**\n",
        "\n",
        "Introducción a Data Science\n",
        "\n",
        "*Autor*: [Luciano Moliterno](https://www.linkedin.com/in/luciano-moliterno-gonzalez/)"
      ]
    },
    {
      "cell_type": "markdown",
      "id": "0ba18503",
      "metadata": {
        "id": "0ba18503"
      },
      "source": [
        "Importamos liberías a utilizar."
      ]
    },
    {
      "cell_type": "code",
      "execution_count": null,
      "id": "60d4d8d3",
      "metadata": {
        "id": "60d4d8d3"
      },
      "outputs": [],
      "source": [
        "import numpy as np\n",
        "from sklearn.linear_model import LinearRegression\n",
        "import matplotlib.pyplot as plt"
      ]
    },
    {
      "cell_type": "markdown",
      "id": "abc11efd",
      "metadata": {
        "id": "abc11efd"
      },
      "source": [
        "Definimos nuestro set de datos."
      ]
    },
    {
      "cell_type": "code",
      "execution_count": null,
      "id": "d0123bf7",
      "metadata": {
        "colab": {
          "base_uri": "https://localhost:8080/"
        },
        "id": "d0123bf7",
        "outputId": "f769b561-0e40-4066-c5bc-5eaf4dbc1055"
      },
      "outputs": [
        {
          "output_type": "execute_result",
          "data": {
            "text/plain": [
              "array([[1. ],\n",
              "       [1.5],\n",
              "       [3. ],\n",
              "       [2. ],\n",
              "       [2.5],\n",
              "       [1.5]])"
            ]
          },
          "metadata": {},
          "execution_count": 2
        }
      ],
      "source": [
        "X = np.array([[1], [1.5], [3], [2], [2.5], [1.5]])\n",
        "X"
      ]
    },
    {
      "cell_type": "code",
      "execution_count": null,
      "id": "916d4f0d",
      "metadata": {
        "colab": {
          "base_uri": "https://localhost:8080/"
        },
        "id": "916d4f0d",
        "outputId": "c6c0772b-c891-4ce2-9ddd-bf28865b0975"
      },
      "outputs": [
        {
          "output_type": "execute_result",
          "data": {
            "text/plain": [
              "(6, 1)"
            ]
          },
          "metadata": {},
          "execution_count": 3
        }
      ],
      "source": [
        "X.shape"
      ]
    },
    {
      "cell_type": "code",
      "execution_count": null,
      "id": "24247b0d",
      "metadata": {
        "colab": {
          "base_uri": "https://localhost:8080/"
        },
        "id": "24247b0d",
        "outputId": "fcf7c2c7-a0d7-4c07-aecc-c4d14cdfcf4c"
      },
      "outputs": [
        {
          "output_type": "execute_result",
          "data": {
            "text/plain": [
              "array([[1. ],\n",
              "       [2.5],\n",
              "       [3. ],\n",
              "       [2.5],\n",
              "       [1.5],\n",
              "       [1. ]])"
            ]
          },
          "metadata": {},
          "execution_count": 4
        }
      ],
      "source": [
        "y = np.array([[1], [2.5], [3], [2.5], [1.5], [1]])\n",
        "y"
      ]
    },
    {
      "cell_type": "code",
      "execution_count": null,
      "id": "5b3503fe",
      "metadata": {
        "colab": {
          "base_uri": "https://localhost:8080/",
          "height": 265
        },
        "id": "5b3503fe",
        "outputId": "b0a3bd06-4292-40d2-f0b0-50980915cb5d"
      },
      "outputs": [
        {
          "output_type": "display_data",
          "data": {
            "text/plain": [
              "<Figure size 432x288 with 1 Axes>"
            ],
            "image/png": "[encoded data removed]"
          },
          "metadata": {
            "needs_background": "light"
          }
        }
      ],
      "source": [
        "plt.scatter(X, y)\n",
        "plt.show()"
      ]
    },
    {
      "cell_type": "markdown",
      "id": "c6ba1d8e",
      "metadata": {
        "id": "c6ba1d8e"
      },
      "source": [
        "Definimos la Regresión Lineal y entrenamos con nuestro set de datos."
      ]
    },
    {
      "cell_type": "code",
      "execution_count": null,
      "id": "379abf79",
      "metadata": {
        "id": "379abf79"
      },
      "outputs": [],
      "source": [
        "reg = LinearRegression(fit_intercept=True).fit(X, y)"
      ]
    },
    {
      "cell_type": "code",
      "execution_count": null,
      "id": "ef767ed7",
      "metadata": {
        "colab": {
          "base_uri": "https://localhost:8080/"
        },
        "id": "ef767ed7",
        "outputId": "81bc7400-fa11-4b48-a44c-df7a6e5d6cbf"
      },
      "outputs": [
        {
          "output_type": "execute_result",
          "data": {
            "text/plain": [
              "array([[0.72307692]])"
            ]
          },
          "metadata": {},
          "execution_count": 7
        }
      ],
      "source": [
        "reg.coef_"
      ]
    },
    {
      "cell_type": "code",
      "execution_count": null,
      "id": "2dcc378e",
      "metadata": {
        "colab": {
          "base_uri": "https://localhost:8080/"
        },
        "id": "2dcc378e",
        "outputId": "fdee839d-1d25-4aee-de77-f2a89d4992be"
      },
      "outputs": [
        {
          "output_type": "execute_result",
          "data": {
            "text/plain": [
              "array([0.53076923])"
            ]
          },
          "metadata": {},
          "execution_count": 8
        }
      ],
      "source": [
        "reg.intercept_"
      ]
    },
    {
      "cell_type": "markdown",
      "id": "960c471a",
      "metadata": {
        "id": "960c471a"
      },
      "source": [
        "Es decir, nuestra recta de regresión será: $y= 0.73x_{1} + 0.53$\n",
        "\n"
      ]
    },
    {
      "cell_type": "code",
      "execution_count": null,
      "id": "7b15617f",
      "metadata": {
        "colab": {
          "base_uri": "https://localhost:8080/",
          "height": 283
        },
        "id": "7b15617f",
        "outputId": "882e734c-9d4b-49a0-e0ac-ba47dda2406b"
      },
      "outputs": [
        {
          "output_type": "execute_result",
          "data": {
            "text/plain": [
              "[<matplotlib.lines.Line2D at 0x7fd7b1082c40>]"
            ]
          },
          "metadata": {},
          "execution_count": 9
        },
        {
          "output_type": "display_data",
          "data": {
            "text/plain": [
              "<Figure size 432x288 with 1 Axes>"
            ],
            "image/png": "[encoded data removed]"
          },
          "metadata": {
            "needs_background": "light"
          }
        }
      ],
      "source": [
        "plt.scatter(X, y, color=\"blue\")\n",
        "plt.plot(X, reg.predict(X), color=\"red\", linewidth=3)"
      ]
    },
    {
      "cell_type": "markdown",
      "id": "be6bcf4e",
      "metadata": {
        "id": "be6bcf4e"
      },
      "source": [
        "\n",
        "Utilizando nuestra recta de regresión, queremos predecir el valor que toma un nuevo registro."
      ]
    },
    {
      "cell_type": "code",
      "execution_count": null,
      "id": "8be5dccb",
      "metadata": {
        "scrolled": true,
        "colab": {
          "base_uri": "https://localhost:8080/"
        },
        "id": "8be5dccb",
        "outputId": "4d5e84d4-9270-48df-a0b1-14f80402102b"
      },
      "outputs": [
        {
          "output_type": "execute_result",
          "data": {
            "text/plain": [
              "array([[2.51923077]])"
            ]
          },
          "metadata": {},
          "execution_count": 10
        }
      ],
      "source": [
        "new_obs = np.array([[2.75]])\n",
        "reg.predict(new_obs)"
      ]
    },
    {
      "cell_type": "code",
      "execution_count": null,
      "id": "ecb4cb91",
      "metadata": {
        "colab": {
          "base_uri": "https://localhost:8080/",
          "height": 283
        },
        "id": "ecb4cb91",
        "outputId": "0f017645-2e9c-4208-8783-85280aebdd24"
      },
      "outputs": [
        {
          "output_type": "execute_result",
          "data": {
            "text/plain": [
              "<matplotlib.collections.PathCollection at 0x7fd7b1003ca0>"
            ]
          },
          "metadata": {},
          "execution_count": 11
        },
        {
          "output_type": "display_data",
          "data": {
            "text/plain": [
              "<Figure size 432x288 with 1 Axes>"
            ],
            "image/png": "[encoded data removed]"
          },
          "metadata": {
            "needs_background": "light"
          }
        }
      ],
      "source": [
        "plt.scatter(X, y, color=\"blue\")\n",
        "plt.plot(X, reg.predict(X), color=\"red\", linewidth=3)\n",
        "plt.scatter(new_obs, reg.predict(new_obs), color=\"black\", s = 100)"
      ]
    },
    {
      "cell_type": "code",
      "execution_count": null,
      "id": "2676c33b",
      "metadata": {
        "id": "2676c33b"
      },
      "outputs": [],
      "source": []
    }
  ],
  "metadata": {
    "kernelspec": {
      "display_name": "Python 3",
      "language": "python",
      "name": "python3"
    },
    "language_info": {
      "codemirror_mode": {
        "name": "ipython",
        "version": 3
      },
      "file_extension": ".py",
      "mimetype": "text/x-python",
      "name": "python",
      "nbconvert_exporter": "python",
      "pygments_lexer": "ipython3",
      "version": "3.8.8"
    },
    "colab": {
      "provenance": []
    }
  },
  "nbformat": 4,
  "nbformat_minor": 5
}