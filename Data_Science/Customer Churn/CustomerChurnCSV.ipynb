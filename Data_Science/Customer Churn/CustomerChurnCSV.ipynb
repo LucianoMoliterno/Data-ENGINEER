{
  "nbformat": 4,
  "nbformat_minor": 0,
  "metadata": {
    "colab": {
      "provenance": []
    },
    "kernelspec": {
      "name": "python3",
      "display_name": "Python 3"
    },
    "language_info": {
      "name": "python"
    }
  },
  "cells": [
    {
      "cell_type": "code",
      "execution_count": 1,
      "metadata": {
        "id": "f_2dbXzdU3op",
        "colab": {
          "base_uri": "https://localhost:8080/"
        },
        "outputId": "05c6f4c6-9145-4aac-918a-2c55005f035b"
      },
      "outputs": [
        {
          "output_type": "stream",
          "name": "stdout",
          "text": [
            "Dataset guardado como 'customer_churn.csv'\n"
          ]
        }
      ],
      "source": [
        "import pandas as pd\n",
        "import numpy as np\n",
        "\n",
        "# Genero datos ficticios de clientes\n",
        "np.random.seed(42)\n",
        "num_samples = 1000\n",
        "\n",
        "data = {\n",
        "    \"ClienteID\": range(1, num_samples + 1),\n",
        "    \"Edad\": np.random.randint(18, 75, num_samples),\n",
        "    \"Antiguedad_Meses\": np.random.randint(1, 120, num_samples),\n",
        "    \"Ingresos_Mensuales\": np.random.randint(1000, 10000, num_samples),\n",
        "    \"Uso_Mensual_Datos_GB\": np.random.uniform(0.5, 50, num_samples).round(2),\n",
        "    \"Facturas_Atrasadas\": np.random.randint(0, 5, num_samples),\n",
        "    \"Soporte_Llamadas\": np.random.randint(0, 10, num_samples),\n",
        "    \"Plan_Premium\": np.random.choice([0, 1], num_samples),\n",
        "    \"Churn\": np.random.choice([0, 1], num_samples, p=[0.8, 0.2])  # 80% se quedan, 20% se van\n",
        "}\n",
        "\n",
        "df_churn = pd.DataFrame(data)\n",
        "\n",
        "# Guardar como CSV\n",
        "df_churn.to_csv(\"customer_churn.csv\", index=False)\n",
        "print(\"Dataset guardado como 'customer_churn.csv'\")"
      ]
    }
  ]
}