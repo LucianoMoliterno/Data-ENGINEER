{
  "nbformat": 4,
  "nbformat_minor": 0,
  "metadata": {
    "colab": {
      "provenance": []
    },
    "kernelspec": {
      "name": "python3",
      "display_name": "Python 3"
    },
    "language_info": {
      "name": "python"
    }
  },
  "cells": [
    {
      "cell_type": "code",
      "execution_count": null,
      "metadata": {
        "id": "M5i5RJB46y9F"
      },
      "outputs": [],
      "source": [
        "import joblib\n",
        "\n",
        "# Guardar modelo\n",
        "joblib.dump(modelo, \"modelo_entrenado.pkl\")\n",
        "\n",
        "# Cargar modelo\n",
        "modelo_cargado = joblib.load(\"modelo_entrenado.pkl\")\n",
        "y_pred = modelo_cargado.predict(X_test)"
      ]
    }
  ]
}