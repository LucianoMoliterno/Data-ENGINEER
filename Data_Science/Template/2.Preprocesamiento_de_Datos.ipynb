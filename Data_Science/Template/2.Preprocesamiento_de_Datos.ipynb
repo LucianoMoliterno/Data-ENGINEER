{
  "nbformat": 4,
  "nbformat_minor": 0,
  "metadata": {
    "colab": {
      "provenance": []
    },
    "kernelspec": {
      "name": "python3",
      "display_name": "Python 3"
    },
    "language_info": {
      "name": "python"
    }
  },
  "cells": [
    {
      "cell_type": "code",
      "execution_count": null,
      "metadata": {
        "id": "844jJrSt6cyr"
      },
      "outputs": [],
      "source": [
        "from sklearn.model_selection import train_test_split\n",
        "from sklearn.preprocessing import LabelEncoder, StandardScaler\n",
        "\n",
        "# 1. Manejo de valores nulos (opcional)\n",
        "df.fillna(df.mean(), inplace=True)  # Reemplaza nulos con la media\n",
        "\n",
        "# 2. Convertir variables categóricas a numéricas\n",
        "labelencoder = LabelEncoder()\n",
        "df[\"columna_categorica\"] = labelencoder.fit_transform(df[\"columna_categorica\"])\n",
        "\n",
        "# 3. Normalizar datos numéricos\n",
        "scaler = StandardScaler()\n",
        "df[[\"columna_numerica\"]] = scaler.fit_transform(df[[\"columna_numerica\"]])\n",
        "\n",
        "# 4. Separar en variables X (features) e y (target)\n",
        "X = df.drop(\"variable_objetivo\", axis=1)\n",
        "y = df[\"variable_objetivo\"]\n",
        "\n",
        "# 5. División en entrenamiento y prueba\n",
        "X_train, X_test, y_train, y_test = train_test_split(X, y, test_size=0.2, random_state=42)"
      ]
    }
  ]
}