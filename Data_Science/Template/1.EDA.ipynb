{
  "nbformat": 4,
  "nbformat_minor": 0,
  "metadata": {
    "colab": {
      "provenance": []
    },
    "kernelspec": {
      "name": "python3",
      "display_name": "Python 3"
    },
    "language_info": {
      "name": "python"
    }
  },
  "cells": [
    {
      "cell_type": "code",
      "execution_count": null,
      "metadata": {
        "id": "wsPVypIvXDzf"
      },
      "outputs": [],
      "source": [
        "import pandas as pd\n",
        "import matplotlib.pyplot as plt\n",
        "import seaborn as sns\n",
        "\n",
        "# 1. Cargar datos\n",
        "df = pd.read_csv(\"datos.csv\")  # Cambia por el archivo correcto\n",
        "\n",
        "# 2. Exploración inicial\n",
        "print(df.head())\n",
        "print(df.info())\n",
        "print(df.describe())\n",
        "\n",
        "# 3. Verificar valores nulos y duplicados\n",
        "print(df.isnull().sum())\n",
        "print(f\"Duplicados: {df.duplicated().sum()}\")\n",
        "\n",
        "# 4. Visualización de distribuciones\n",
        "plt.figure(figsize=(10, 5))\n",
        "sns.histplot(df[\"columna_numerica\"], kde=True, bins=30)\n",
        "plt.title(\"Distribución de la variable\")\n",
        "plt.show()\n",
        "\n",
        "# 5. Matriz de correlación\n",
        "plt.figure(figsize=(8, 6))\n",
        "sns.heatmap(df.corr(), annot=True, cmap='coolwarm', fmt='.2f')\n",
        "plt.title(\"Matriz de Correlación\")\n",
        "plt.show()"
      ]
    }
  ]
}