{
 "cells": [
  {
   "cell_type": "markdown",
   "metadata": {},
   "source": [
    "# Chapter 5 - Elements of Discrete Mathematics\n",
    "\n",
    "This notebook contains code accompanying Chapter 5 Elements of Discrete Mathematics in *Practical Discrete Mathematics* by Ryan T. White and Archana Tikayat Ray.\n",
    "\n",
    "## The Basics of Discrete Probability\n",
    "\n",
    "### Example: Tossing Many Coins\n",
    "\n",
    "The code below computes the probability of getting $k=0$, $k=1$, ..., $k=50$ heads in 50 coin tosses of fair coins. These are binomial probabilities."
   ]
  },
  {
   "cell_type": "code",
   "execution_count": 2,
   "metadata": {},
   "outputs": [
    {
     "name": "stdout",
     "output_type": "stream",
     "text": [
      "Probability of 0 heads: 0.000000\n",
      "Probability of 1 heads: 0.000000\n",
      "Probability of 2 heads: 0.000000\n",
      "Probability of 3 heads: 0.000000\n",
      "Probability of 4 heads: 0.000000\n",
      "Probability of 5 heads: 0.000000\n",
      "Probability of 6 heads: 0.000000\n",
      "Probability of 7 heads: 0.000000\n",
      "Probability of 8 heads: 0.000000\n",
      "Probability of 9 heads: 0.000002\n",
      "Probability of 10 heads: 0.000009\n",
      "Probability of 11 heads: 0.000033\n",
      "Probability of 12 heads: 0.000108\n",
      "Probability of 13 heads: 0.000315\n",
      "Probability of 14 heads: 0.000833\n",
      "Probability of 15 heads: 0.001999\n",
      "Probability of 16 heads: 0.004373\n",
      "Probability of 17 heads: 0.008746\n",
      "Probability of 18 heads: 0.016035\n",
      "Probability of 19 heads: 0.027006\n",
      "Probability of 20 heads: 0.041859\n",
      "Probability of 21 heads: 0.059799\n",
      "Probability of 22 heads: 0.078826\n",
      "Probability of 23 heads: 0.095962\n",
      "Probability of 24 heads: 0.107957\n",
      "Probability of 25 heads: 0.112275\n",
      "Probability of 26 heads: 0.107957\n",
      "Probability of 27 heads: 0.095962\n",
      "Probability of 28 heads: 0.078826\n",
      "Probability of 29 heads: 0.059799\n",
      "Probability of 30 heads: 0.041859\n",
      "Probability of 31 heads: 0.027006\n",
      "Probability of 32 heads: 0.016035\n",
      "Probability of 33 heads: 0.008746\n",
      "Probability of 34 heads: 0.004373\n",
      "Probability of 35 heads: 0.001999\n",
      "Probability of 36 heads: 0.000833\n",
      "Probability of 37 heads: 0.000315\n",
      "Probability of 38 heads: 0.000108\n",
      "Probability of 39 heads: 0.000033\n",
      "Probability of 40 heads: 0.000009\n",
      "Probability of 41 heads: 0.000002\n",
      "Probability of 42 heads: 0.000000\n",
      "Probability of 43 heads: 0.000000\n",
      "Probability of 44 heads: 0.000000\n",
      "Probability of 45 heads: 0.000000\n",
      "Probability of 46 heads: 0.000000\n",
      "Probability of 47 heads: 0.000000\n",
      "Probability of 48 heads: 0.000000\n",
      "Probability of 49 heads: 0.000000\n",
      "Probability of 50 heads: 0.000000\n"
     ]
    },
    {
     "data": {
      "image/png": "[encoded data removed]",
      "text/plain": [
       "<Figure size 432x288 with 1 Axes>"
      ]
     },
     "metadata": {
      "needs_background": "light"
     },
     "output_type": "display_data"
    }
   ],
   "source": [
    "# import packages with the functions we need\n",
    "import scipy.special\n",
    "import matplotlib.pyplot as plt\n",
    "\n",
    "probabilities = []\n",
    "\n",
    "for n in range(51):\n",
    "    # calculate probability of n heads\n",
    "    probability = scipy.special.binom(50, n) / (2 ** 50)\n",
    "\n",
    "    # convert to a string with 6 decimal places\n",
    "    probString = \"{:.6f}\".format(probability)\n",
    "\n",
    "    # print probability\n",
    "    print('Probability of ' + str(n) + ' heads: ' + probString)\n",
    "\n",
    "    # add probability to list\n",
    "    probabilities.append(probability)\n",
    "\n",
    "# plot the probabilites\n",
    "plt.plot(range(51), probabilities, '-o')\n",
    "plt.axis([0, 50, 0, 0.15])\n",
    "plt.show()"
   ]
  }
 ],
 "metadata": {
  "kernelspec": {
   "display_name": "Python 3.7 (DL)",
   "language": "python",
   "name": "dl"
  },
  "language_info": {
   "codemirror_mode": {
    "name": "ipython",
    "version": 3
   },
   "file_extension": ".py",
   "mimetype": "text/x-python",
   "name": "python",
   "nbconvert_exporter": "python",
   "pygments_lexer": "ipython3",
   "version": "3.7.7"
  }
 },
 "nbformat": 4,
 "nbformat_minor": 4
}
