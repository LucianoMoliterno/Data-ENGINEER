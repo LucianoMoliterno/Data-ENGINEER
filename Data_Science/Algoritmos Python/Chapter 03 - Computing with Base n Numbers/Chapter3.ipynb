{
 "cells": [
  {
   "cell_type": "markdown",
   "metadata": {},
   "source": [
    "# Chapter 3 - Computing with Base-$n$ Numbers\n",
    "\n",
    "This notebook contains code accompanying Chapter 3 Computing with Base-$n$ Numbers in *Practical Discrete Mathematics* by Ryan T. White and Archana Tikayat Ray.\n",
    "\n",
    "## Converting between Bases\n",
    "\n",
    "Below, we can convert a user-input number in base-10 (decimal) to numbers in base-16 (hexadecimal) and base-2 (binary)."
   ]
  },
  {
   "cell_type": "code",
   "execution_count": 7,
   "metadata": {},
   "outputs": [
    {
     "name": "stdin",
     "output_type": "stream",
     "text": [
      "Enter a number with base 10\n",
      " 123456\n"
     ]
    },
    {
     "name": "stdout",
     "output_type": "stream",
     "text": [
      "Hexadecimal form of 123456 is 1e240\n",
      "Binary form of 123456 is 11110001001000000\n"
     ]
    }
   ],
   "source": [
    "# TypeConversion from decimal with base 10 to hexadecimal form with base 16 to binary form with the base 2 \n",
    "\n",
    "# Taking input from user - an integer with base 10\n",
    "number = int(input(\"Enter a number with base 10\\n\"))\n",
    "# Converting the decimal number input by user to Hexadecimal \n",
    "print(\"Hexadecimal form of \" + str(number) + \" is \" + hex(number).lstrip(\"0x\").rstrip(\"L\"))\n",
    "# Converting the decimal number input by user to Binary \n",
    "print(\"Binary form of \" + str(number) + \" is \" + bin(number).lstrip(\"0b\").rstrip(\"L\"))"
   ]
  },
  {
   "cell_type": "markdown",
   "metadata": {},
   "source": [
    "## Binary Numbers and their Applications\n",
    "\n",
    "Below is an example showing how we can use Boolean algebra with a dataset of Netflix users."
   ]
  },
  {
   "cell_type": "code",
   "execution_count": 2,
   "metadata": {},
   "outputs": [
    {
     "name": "stdout",
     "output_type": "stream",
     "text": [
      "Example for AND operator\n",
      "   CustomerID Country    State     City Zip Code\n",
      "0           1     USA  Georgia  Atlanta    30332\n",
      "1           2     USA  Georgia  Atlanta    30331\n",
      "Example for OR operator\n",
      "   CustomerID Country    State       City Zip Code\n",
      "0           1     USA  Georgia    Atlanta    30332\n",
      "1           2     USA  Georgia    Atlanta    30331\n",
      "2           3     USA  Florida  Melbourne    30912\n",
      "3           4     USA  Florida      Tampa    30123\n",
      "9          10  Canada  Ontario    Toronto  M4B 1B3\n",
      "Example for NOT operator\n",
      "   CustomerID  Country        State        City Zip Code\n",
      "4           5    India    Karnataka  Bangalore    560001\n",
      "5           6    India  Maharashtra      Mumbai   578234\n",
      "6           7    India    Karnataka       Hubli   569823\n",
      "7           8   India   Maharashtra      Mumbai   578234\n",
      "8           9  Germany      Bavaria      Munich    80331\n",
      "9          10   Canada      Ontario     Toronto  M4B 1B3\n"
     ]
    }
   ],
   "source": [
    "# Import packages with the functions we need\n",
    "import pandas as pd\n",
    "\n",
    "# Import the file you are trying to work with\n",
    "customer_df = pd.read_csv(\"CustomerList.csv\")\n",
    "\n",
    "# Using AND operator\n",
    "print(\"Example for AND operator\")\n",
    "print(customer_df.loc[(customer_df['Country'] == 'USA') & (customer_df['State'] == 'Georgia')])\n",
    "\n",
    "# Using OR operator \n",
    "print(\"Example for OR operator\")\n",
    "print(customer_df.loc[(customer_df['Country'] == 'USA') | (customer_df['State'] == 'Ontario')])\n",
    "\n",
    "# Using NOT operator\n",
    "print(\"Example for NOT operator\")\n",
    "print(customer_df.loc[(customer_df['Country'] != 'USA')])"
   ]
  },
  {
   "cell_type": "markdown",
   "metadata": {},
   "source": [
    "## Hexadecimal Numbers and Their Applications\n",
    "\n",
    "### Example: Defining locations in computer memory"
   ]
  },
  {
   "cell_type": "code",
   "execution_count": 4,
   "metadata": {},
   "outputs": [
    {
     "name": "stdout",
     "output_type": "stream",
     "text": [
      "The memory location of variable peanut_butter is:  140719185764912\n",
      "The memory location of variable sandwich is:  140719185764912\n",
      "We can see that the memory location of both the variables is the same because they were assigned the same value\n",
      "After setting the values of both variables equal to each other, we have: \n",
      "The value of variable sandwich is now set to:  7\n",
      "The value of variable peanut_butter is now set to:  7\n",
      "The value of  sandwich variable was changed to 10, let's see whether it affects the value of peanut_butter\n",
      "The value of variable peanut_butter:  7\n",
      "The value of peanut_butter did NOT change even though we changed the value of sandwich\n",
      "The memory location of variable peanut_butter is:  140719185764944\n"
     ]
    }
   ],
   "source": [
    "# Variable 1: peanut_butter\n",
    "peanut_butter = 6\n",
    "print(\"The memory location of variable peanut_butter is: \",id(peanut_butter))\n",
    "\n",
    "# Variable 2: sandwich\n",
    "sandwich = 6\n",
    "print(\"The memory location of variable sandwich is: \",id(sandwich))\n",
    "print(\"We can see that the memory location of both the variables is the same because they were assigned the same value\")\n",
    "\n",
    "# Setting value of sandwich variable to a new number\n",
    "sandwich = 7\n",
    "\n",
    "# Setting both the variables equal to each other:\n",
    "peanut_butter = sandwich\n",
    "print(\"After setting the values of both variables equal to each other, we have: \")\n",
    "print(\"The value of variable sandwich is now set to: \",sandwich)\n",
    "print(\"The value of variable peanut_butter is now set to: \",peanut_butter)\n",
    "print(\"The value of  sandwich variable was changed to 10, let's see whether it affects the value of peanut_butter\")\n",
    "\n",
    "# Setting value of sandwich variable to a new number\n",
    "sandwich = 10\n",
    "\n",
    "print(\"The value of variable peanut_butter: \" ,peanut_butter)\n",
    "print(\"The value of peanut_butter did NOT change even though we changed the value of sandwich\")\n",
    "print(\"The memory location of variable peanut_butter is: \",id(peanut_butter))"
   ]
  },
  {
   "cell_type": "markdown",
   "metadata": {},
   "source": [
    "### Example: Media Access Control (MAC) Addresses\n",
    "\n",
    "Note the MAC address generated by the code below will vary for different users, but they will be stored in a hexadecimal form."
   ]
  },
  {
   "cell_type": "code",
   "execution_count": null,
   "metadata": {},
   "outputs": [],
   "source": [
    "import uuid\n",
    "\n",
    "# address using uuid and getnode() function making use of hexadecimal number system\n",
    "print (hex(uuid.getnode()))"
   ]
  }
 ],
 "metadata": {
  "kernelspec": {
   "display_name": "Python 3.7 (DL)",
   "language": "python",
   "name": "dl"
  },
  "language_info": {
   "codemirror_mode": {
    "name": "ipython",
    "version": 3
   },
   "file_extension": ".py",
   "mimetype": "text/x-python",
   "name": "python",
   "nbconvert_exporter": "python",
   "pygments_lexer": "ipython3",
   "version": "3.7.7"
  }
 },
 "nbformat": 4,
 "nbformat_minor": 4
}
