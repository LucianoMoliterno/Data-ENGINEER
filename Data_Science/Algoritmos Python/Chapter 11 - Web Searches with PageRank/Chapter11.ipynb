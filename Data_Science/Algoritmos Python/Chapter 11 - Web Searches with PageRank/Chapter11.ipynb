{
 "cells": [
  {
   "cell_type": "markdown",
   "metadata": {},
   "source": [
    "# Chapter 11 - Web Searches with PageRank\n",
    "\n",
    "This notebook contains code accompanying Chapter 11 Web Searches with PageRank in *Practical Discrete Mathematics* by Ryan T. White and Archana Tikayat Ray.\n",
    "\n",
    "## Google PageRank II\n",
    "\n",
    "### Example: Computing one PageRank update"
   ]
  },
  {
   "cell_type": "code",
   "execution_count": 1,
   "metadata": {},
   "outputs": [
    {
     "name": "stdout",
     "output_type": "stream",
     "text": [
      "[[0.3411]\n",
      " [0.0725]\n",
      " [0.0725]\n",
      " [0.3836]\n",
      " [0.1286]]\n"
     ]
    }
   ],
   "source": [
    "# import the NumPy library\n",
    "import numpy\n",
    "\n",
    "# transition probability matrix\n",
    "A = numpy.array([[0, 0.25, 0.25, 0.25, 0.25],\n",
    "                 [0.5, 0, 0, 0.5, 0],\n",
    "                 [0.33, 0, 0, 0.33, 0.33],\n",
    "                 [1, 0, 0, 0, 0],\n",
    "                 [0, 0, 0, 1, 0]])\n",
    "\n",
    "# initialize the PageRank vector\n",
    "v = numpy.array([[0.2], [0.2], [0.2], [0.2], [0.2]])\n",
    "\n",
    "# the damping factor\n",
    "d = 0.85\n",
    "\n",
    "# the size of the \"Internet\"\n",
    "N = 5\n",
    "\n",
    "# compute the update matrix\n",
    "U = d * A.T + (1 - d) / N\n",
    "\n",
    "# compute the new PageRank vector\n",
    "v = numpy.dot(U, v)\n",
    "\n",
    "# print the new PageRank vector\n",
    "print(v)"
   ]
  },
  {
   "cell_type": "markdown",
   "metadata": {},
   "source": [
    "Below, we loop this calculation and do 15 PageRank updates."
   ]
  },
  {
   "cell_type": "code",
   "execution_count": 2,
   "metadata": {},
   "outputs": [
    {
     "name": "stdout",
     "output_type": "stream",
     "text": [
      "PageRank vector 0 is [[0.2 0.2 0.2 0.2 0.2]]\n",
      "PageRank vector 1 is [[0.341 0.073 0.073 0.384 0.129]]\n",
      "PageRank vector 2 is [[0.408 0.102 0.102 0.264 0.123]]\n",
      "PageRank vector 3 is [[0.326 0.117 0.117 0.293 0.145]]\n",
      "PageRank vector 4 is [[0.362 0.099 0.099 0.305 0.132]]\n",
      "PageRank vector 5 is [[0.359 0.107 0.107 0.289 0.135]]\n",
      "PageRank vector 6 is [[0.351 0.106 0.106 0.296 0.136]]\n",
      "PageRank vector 7 is [[0.356 0.104 0.104 0.295 0.134]]\n",
      "PageRank vector 8 is [[0.354 0.105 0.105 0.293 0.135]]\n",
      "PageRank vector 9 is [[0.353 0.105 0.105 0.294 0.134]]\n",
      "PageRank vector 10 is [[0.354 0.105 0.105 0.293 0.134]]\n",
      "PageRank vector 11 is [[0.353 0.105 0.105 0.293 0.134]]\n",
      "PageRank vector 12 is [[0.353 0.105 0.105 0.293 0.134]]\n",
      "PageRank vector 13 is [[0.353 0.105 0.105 0.293 0.134]]\n",
      "PageRank vector 14 is [[0.353 0.105 0.105 0.293 0.134]]\n",
      "PageRank vector 15 is [[0.353 0.105 0.105 0.293 0.134]]\n"
     ]
    }
   ],
   "source": [
    "# initialize the PageRank vector\n",
    "v = numpy.array([[0.2], [0.2], [0.2], [0.2], [0.2]])\n",
    "\n",
    "# print the initial vector\n",
    "print('PageRank vector', 0, 'is', v.T)\n",
    "\n",
    "# compute the PageRank vector for 15 iterations\n",
    "for i in range(15):\n",
    "    # compute the next PageRank vector\n",
    "    v = numpy.dot(U, v)\n",
    "\n",
    "    # round the PageRank vector to 3 places\n",
    "    v = numpy.round(v, 3)\n",
    "    \n",
    "    # print the PageRank vector\n",
    "    print('PageRank vector', i + 1, 'is', v.T)"
   ]
  },
  {
   "cell_type": "markdown",
   "metadata": {},
   "source": [
    "Notice that the vectors converge to a specific location. This always happens if the linking structure of the \"Internet\" does not change. Typically, these updates are computed until they converge periodically as new information is gained from the real Internet, which is changing all the time."
   ]
  },
  {
   "cell_type": "markdown",
   "metadata": {},
   "source": [
    "## Implementing a PageRank in Python"
   ]
  },
  {
   "cell_type": "code",
   "execution_count": 3,
   "metadata": {},
   "outputs": [],
   "source": [
    "# The PageRank algorithm for ranking search results\n",
    "#\n",
    "# INPUTS\n",
    "# A - the transition probability matrix\n",
    "# d - the damping factor, default = 0.85\n",
    "# eps - the error threshold, default = 0.0005\n",
    "# maxIterations - the maximum iterations it can run before stopping\n",
    "# verbose - if true, the algorithm prints the progress of PageRank, default False\n",
    "# \n",
    "# OUTPUTS\n",
    "# vNew - the steady state PageRank vector\n",
    "\n",
    "def PageRank(A, d = 0.85, eps = 0.0005, maxIterations = 1000,\n",
    "             verbose = False):\n",
    "    # find the size of the \"Internet\"\n",
    "    N = A.shape[0]\n",
    "    \n",
    "    # initialize the old and new PageRank vectors\n",
    "    vOld = numpy.ones([N])\n",
    "    vNew = numpy.ones([N])/N\n",
    "    \n",
    "    # initialize a counter\n",
    "    i = 0\n",
    "    \n",
    "    # compute the update matrix\n",
    "    U = d * A.T + (1 - d) / N\n",
    "\n",
    "    while numpy.linalg.norm(vOld - vNew) >= eps:\n",
    "        # if the verbose flag is true, print the progress at each iteration\n",
    "        if verbose:\n",
    "            print('At iteration', i, 'the error is',\n",
    "                  numpy.round(numpy.linalg.norm(vOld - vNew), 3),\n",
    "                  'with PageRank', numpy.round(vNew, 3))\n",
    "            \n",
    "        # save the current PageRank as the old PageRank\n",
    "        vOld = vNew\n",
    "        \n",
    "        # update the PageRank vector\n",
    "        vNew = numpy.dot(U, vOld)\n",
    "        \n",
    "        # increment the counter\n",
    "        i += 1\n",
    "        \n",
    "        # if it runs too long before converging, stop and notify the user\n",
    "        if i == maxIterations:\n",
    "            print('The PageRank algorithm ran for',\n",
    "                  maxIterations, 'with error',\n",
    "                  numpy.round(numpy.linalg.norm(vOld - vNew), 3))\n",
    "            \n",
    "            # return the PageRank vectora and the \n",
    "            return vNew, i\n",
    "        \n",
    "    # return the steady state PageRank vector and iteration number\n",
    "    return vNew, i"
   ]
  },
  {
   "cell_type": "markdown",
   "metadata": {},
   "source": [
    "Below, we run the PageRank algorithm with default settings."
   ]
  },
  {
   "cell_type": "code",
   "execution_count": 4,
   "metadata": {},
   "outputs": [
    {
     "name": "stdout",
     "output_type": "stream",
     "text": [
      "At iteration 0 the error is 1.789 with PageRank [0.2 0.2 0.2 0.2 0.2]\n",
      "At iteration 1 the error is 0.303 with PageRank [0.342 0.073 0.073 0.384 0.129]\n",
      "At iteration 2 the error is 0.144 with PageRank [0.408 0.103 0.103 0.264 0.123]\n",
      "At iteration 3 the error is 0.092 with PageRank [0.327 0.117 0.117 0.294 0.146]\n",
      "At iteration 4 the error is 0.047 with PageRank [0.363 0.099 0.099 0.306 0.133]\n",
      "At iteration 5 the error is 0.019 with PageRank [0.361 0.107 0.107 0.29  0.135]\n",
      "At iteration 6 the error is 0.011 with PageRank [0.352 0.107 0.107 0.297 0.137]\n",
      "At iteration 7 the error is 0.007 with PageRank [0.358 0.105 0.105 0.297 0.135]\n",
      "At iteration 8 the error is 0.003 with PageRank [0.357 0.106 0.106 0.295 0.136]\n",
      "At iteration 9 the error is 0.001 with PageRank [0.356 0.106 0.106 0.296 0.136]\n",
      "At iteration 10 the error is 0.001 with PageRank [0.357 0.106 0.106 0.296 0.136]\n"
     ]
    },
    {
     "data": {
      "text/plain": [
       "(array([0.3565286 , 0.10584025, 0.10584025, 0.29600666, 0.13578424]), 11)"
      ]
     },
     "execution_count": 4,
     "metadata": {},
     "output_type": "execute_result"
    }
   ],
   "source": [
    "# transition probability matrix\n",
    "A = numpy.array([[0, 1/4, 1/4, 1/4, 1/4],\n",
    "                 [1/2, 0, 0, 1/2, 0],\n",
    "                 [1/3, 0, 0, 1/3, 1/3],\n",
    "                 [1, 0, 0, 0, 0],\n",
    "                 [0, 0, 0, 1, 0]])\n",
    "\n",
    "# Run the PageRank algorithm with default settings\n",
    "PageRank(A, verbose = True)"
   ]
  },
  {
   "cell_type": "markdown",
   "metadata": {},
   "source": [
    "After webpage W3 becomes popular, let's run PageRank again and see what changes."
   ]
  },
  {
   "cell_type": "code",
   "execution_count": 5,
   "metadata": {},
   "outputs": [
    {
     "name": "stdout",
     "output_type": "stream",
     "text": [
      "At iteration 0 the error is 1.789 with PageRank [0.2 0.2 0.2 0.2 0.2]\n",
      "At iteration 1 the error is 0.192 with PageRank [0.228 0.073 0.299 0.271 0.129]\n",
      "At iteration 2 the error is 0.06 with PageRank [0.25  0.079 0.269 0.239 0.163]\n",
      "At iteration 3 the error is 0.026 with PageRank [0.23  0.083 0.276 0.251 0.159]\n",
      "At iteration 4 the error is 0.01 with PageRank [0.239 0.079 0.277 0.248 0.157]\n",
      "At iteration 5 the error is 0.004 with PageRank [0.236 0.081 0.275 0.248 0.159]\n",
      "At iteration 6 the error is 0.001 with PageRank [0.236 0.08  0.276 0.249 0.158]\n",
      "At iteration 7 the error is 0.001 with PageRank [0.237 0.08  0.276 0.249 0.159]\n"
     ]
    },
    {
     "data": {
      "text/plain": [
       "(array([0.2365497 , 0.08030807, 0.27603383, 0.24860661, 0.15850179]), 8)"
      ]
     },
     "execution_count": 5,
     "metadata": {},
     "output_type": "execute_result"
    }
   ],
   "source": [
    "# transition probability matrix\n",
    "B = numpy.array([[0, 1/4, 1/4, 1/4, 1/4],\n",
    "                 [1/3, 0, 1/3, 1/3, 0],\n",
    "                 [1/3, 0, 0, 1/3, 1/3],\n",
    "                 [1/2, 0, 1/2, 0, 0],\n",
    "                 [0, 0, 1/2, 1/2, 0]])\n",
    "\n",
    "# Run the PageRank algorithm with default settings\n",
    "PageRank(B, verbose = True)"
   ]
  },
  {
   "cell_type": "markdown",
   "metadata": {},
   "source": [
    "Here, the rank of the website W3 goes from 0.11 to 0.28, a big increase due to its increased popularity.\n",
    "\n",
    "## Applying the Algorithm to Real Data\n",
    "\n",
    "We have a file `California.txt`, which has a real Internet dataset of 9664 webpages containing the word \"California\" with an adjacency list representing links between the webpages. Let's read that into a `pandas` dataframe."
   ]
  },
  {
   "cell_type": "code",
   "execution_count": 6,
   "metadata": {},
   "outputs": [
    {
     "data": {
      "text/html": [
       "<div>\n",
       "<style scoped>\n",
       "    .dataframe tbody tr th:only-of-type {\n",
       "        vertical-align: middle;\n",
       "    }\n",
       "\n",
       "    .dataframe tbody tr th {\n",
       "        vertical-align: top;\n",
       "    }\n",
       "\n",
       "    .dataframe thead th {\n",
       "        text-align: right;\n",
       "    }\n",
       "</style>\n",
       "<table border=\"1\" class=\"dataframe\">\n",
       "  <thead>\n",
       "    <tr style=\"text-align: right;\">\n",
       "      <th></th>\n",
       "      <th>Type</th>\n",
       "      <th>Source</th>\n",
       "      <th>Destination</th>\n",
       "    </tr>\n",
       "  </thead>\n",
       "  <tbody>\n",
       "    <tr>\n",
       "      <th>0</th>\n",
       "      <td>n</td>\n",
       "      <td>0</td>\n",
       "      <td>http://www.berkeley.edu/</td>\n",
       "    </tr>\n",
       "    <tr>\n",
       "      <th>1</th>\n",
       "      <td>n</td>\n",
       "      <td>1</td>\n",
       "      <td>http://www.caltech.edu/</td>\n",
       "    </tr>\n",
       "    <tr>\n",
       "      <th>2</th>\n",
       "      <td>n</td>\n",
       "      <td>2</td>\n",
       "      <td>http://www.realestatenet.com/</td>\n",
       "    </tr>\n",
       "    <tr>\n",
       "      <th>3</th>\n",
       "      <td>n</td>\n",
       "      <td>3</td>\n",
       "      <td>http://www.ucsb.edu/</td>\n",
       "    </tr>\n",
       "    <tr>\n",
       "      <th>4</th>\n",
       "      <td>n</td>\n",
       "      <td>4</td>\n",
       "      <td>http://www.washingtonpost.com/wp-srv/national/...</td>\n",
       "    </tr>\n",
       "    <tr>\n",
       "      <th>...</th>\n",
       "      <td>...</td>\n",
       "      <td>...</td>\n",
       "      <td>...</td>\n",
       "    </tr>\n",
       "    <tr>\n",
       "      <th>25809</th>\n",
       "      <td>e</td>\n",
       "      <td>9663</td>\n",
       "      <td>1806</td>\n",
       "    </tr>\n",
       "    <tr>\n",
       "      <th>25810</th>\n",
       "      <td>e</td>\n",
       "      <td>9663</td>\n",
       "      <td>266</td>\n",
       "    </tr>\n",
       "    <tr>\n",
       "      <th>25811</th>\n",
       "      <td>e</td>\n",
       "      <td>9663</td>\n",
       "      <td>7905</td>\n",
       "    </tr>\n",
       "    <tr>\n",
       "      <th>25812</th>\n",
       "      <td>e</td>\n",
       "      <td>9663</td>\n",
       "      <td>70</td>\n",
       "    </tr>\n",
       "    <tr>\n",
       "      <th>25813</th>\n",
       "      <td>e</td>\n",
       "      <td>9663</td>\n",
       "      <td>7907</td>\n",
       "    </tr>\n",
       "  </tbody>\n",
       "</table>\n",
       "<p>25814 rows × 3 columns</p>\n",
       "</div>"
      ],
      "text/plain": [
       "      Type  Source                                        Destination\n",
       "0        n       0                           http://www.berkeley.edu/\n",
       "1        n       1                            http://www.caltech.edu/\n",
       "2        n       2                      http://www.realestatenet.com/\n",
       "3        n       3                               http://www.ucsb.edu/\n",
       "4        n       4  http://www.washingtonpost.com/wp-srv/national/...\n",
       "...    ...     ...                                                ...\n",
       "25809    e    9663                                               1806\n",
       "25810    e    9663                                                266\n",
       "25811    e    9663                                               7905\n",
       "25812    e    9663                                                 70\n",
       "25813    e    9663                                               7907\n",
       "\n",
       "[25814 rows x 3 columns]"
      ]
     },
     "execution_count": 6,
     "metadata": {},
     "output_type": "execute_result"
    }
   ],
   "source": [
    "# import the pandas library\n",
    "import pandas\n",
    "\n",
    "# read the txt file into a dataframe\n",
    "data = pandas.read_csv(\"California.txt\", delimiter=' ')\n",
    "\n",
    "# display the dataframe\n",
    "data"
   ]
  },
  {
   "cell_type": "markdown",
   "metadata": {},
   "source": [
    "Next, we preprocess the data to extract the adjacency list, drop the all the \"e\" strings in the first column, convert the remaining numerical portion to a `NumPy` array, and store the numbers as integers."
   ]
  },
  {
   "cell_type": "code",
   "execution_count": 7,
   "metadata": {},
   "outputs": [
    {
     "name": "stdout",
     "output_type": "stream",
     "text": [
      "[[   0  449]\n",
      " [   0  450]\n",
      " [   0  451]\n",
      " ...\n",
      " [9663 7905]\n",
      " [9663   70]\n",
      " [9663 7907]]\n"
     ]
    }
   ],
   "source": [
    "# preprocess the data\n",
    "\n",
    "# select only the rows with type 'e'\n",
    "adjacencies = data.loc[data['Type'] == 'e']\n",
    "\n",
    "# drop the 'Type' column\n",
    "adjacencies = adjacencies.drop(columns = 'Type')\n",
    "\n",
    "# convert the adjacency list to a NumPy array\n",
    "adjacencies = adjacencies.to_numpy()\n",
    "\n",
    "# convert the adjacency list to integers\n",
    "adjacencies = adjacencies.astype('int')\n",
    "\n",
    "# print the adjacency list\n",
    "print(adjacencies)"
   ]
  },
  {
   "cell_type": "markdown",
   "metadata": {},
   "source": [
    "Next, let’s convert the adjacency list to an adjacency matrix."
   ]
  },
  {
   "cell_type": "code",
   "execution_count": 8,
   "metadata": {},
   "outputs": [],
   "source": [
    "# convert the adjacency list to an adjacency matrix\n",
    "\n",
    "# find the number of webpages and initialize A\n",
    "N = numpy.max(adjacencies) + 1\n",
    "A = numpy.zeros([N, N])\n",
    "\n",
    "# iterate over the rows of the adjacency list\n",
    "for k in range(adjacencies.shape[0]):\n",
    "    # find the adjacent vertex numbers\n",
    "    i, j = adjacencies[k,]\n",
    "    \n",
    "    # put 1 in the adjacency matrix\n",
    "    A[i, j] = 1"
   ]
  },
  {
   "cell_type": "markdown",
   "metadata": {},
   "source": [
    "Next, we need to convert $\\mathbf{A}$ to the transition probability matrix by dividing each 1 corresponding to an outgoing link by the total number of outgoing links from that webpage. In other words, we divide each row by its row sum."
   ]
  },
  {
   "cell_type": "code",
   "execution_count": 9,
   "metadata": {},
   "outputs": [],
   "source": [
    "# convert A to the transition probability matrix\n",
    "\n",
    "# divide each row of A by its row sum\n",
    "rowSums = A.sum(axis = 1)[:,None]\n",
    "\n",
    "# divide A by the rowSums\n",
    "A = numpy.divide(A, rowSums, where = rowSums != 0)"
   ]
  },
  {
   "cell_type": "markdown",
   "metadata": {},
   "source": [
    "Next, let’s run `PageRank` on this transition probability matrix."
   ]
  },
  {
   "cell_type": "code",
   "execution_count": 10,
   "metadata": {},
   "outputs": [
    {
     "name": "stdout",
     "output_type": "stream",
     "text": [
      "[2.79688870e-05 6.29671046e-06 2.06171425e-07 ... 9.48337601e-08\n",
      " 9.48337601e-08 9.48337601e-08]\n",
      "14\n"
     ]
    }
   ],
   "source": [
    "# run PageRank\n",
    "v, i = PageRank(A)\n",
    "\n",
    "# print the steady state PageRank vector and iteration number\n",
    "print(v)\n",
    "print(i)"
   ]
  },
  {
   "cell_type": "markdown",
   "metadata": {},
   "source": [
    "As we see, feeding this large transition probability matrix of dimensions 9663-by-9663 converges to a steady state PageRank vector in 14 iterations. We will then sort the PageRanks from highest to lowest and save the indices of the sorted list."
   ]
  },
  {
   "cell_type": "code",
   "execution_count": 11,
   "metadata": {},
   "outputs": [],
   "source": [
    "# sort the PageRanks in ascending order\n",
    "ranks = numpy.argsort(v)\n",
    "\n",
    "# find the PageRanks in descending order\n",
    "ranks = numpy.flip(ranks)"
   ]
  },
  {
   "cell_type": "code",
   "execution_count": 12,
   "metadata": {},
   "outputs": [
    {
     "name": "stdout",
     "output_type": "stream",
     "text": [
      "[4391 1488  997 ... 5632 5633 9663]\n"
     ]
    }
   ],
   "source": [
    "print(ranks)"
   ]
  },
  {
   "cell_type": "markdown",
   "metadata": {},
   "source": [
    "Then, let’s return the top 10 webpages containing the word “California.”"
   ]
  },
  {
   "cell_type": "code",
   "execution_count": 13,
   "metadata": {},
   "outputs": [
    {
     "data": {
      "text/html": [
       "<div>\n",
       "<style scoped>\n",
       "    .dataframe tbody tr th:only-of-type {\n",
       "        vertical-align: middle;\n",
       "    }\n",
       "\n",
       "    .dataframe tbody tr th {\n",
       "        vertical-align: top;\n",
       "    }\n",
       "\n",
       "    .dataframe thead th {\n",
       "        text-align: right;\n",
       "    }\n",
       "</style>\n",
       "<table border=\"1\" class=\"dataframe\">\n",
       "  <thead>\n",
       "    <tr style=\"text-align: right;\">\n",
       "      <th></th>\n",
       "      <th>Destination</th>\n",
       "    </tr>\n",
       "  </thead>\n",
       "  <tbody>\n",
       "    <tr>\n",
       "      <th>4391</th>\n",
       "      <td>http://search.ucdavis.edu/</td>\n",
       "    </tr>\n",
       "    <tr>\n",
       "      <th>1488</th>\n",
       "      <td>http://www.ucdavis.edu/</td>\n",
       "    </tr>\n",
       "    <tr>\n",
       "      <th>997</th>\n",
       "      <td>http://www.gene.com/ae/bioforum/</td>\n",
       "    </tr>\n",
       "    <tr>\n",
       "      <th>2408</th>\n",
       "      <td>http://www.lib.uci.edu/</td>\n",
       "    </tr>\n",
       "    <tr>\n",
       "      <th>8051</th>\n",
       "      <td>http://vision.berkeley.edu/VSP/index.shtml</td>\n",
       "    </tr>\n",
       "    <tr>\n",
       "      <th>1489</th>\n",
       "      <td>http://www.uci.edu/</td>\n",
       "    </tr>\n",
       "    <tr>\n",
       "      <th>718</th>\n",
       "      <td>http://www.students.ucr.edu/</td>\n",
       "    </tr>\n",
       "    <tr>\n",
       "      <th>211</th>\n",
       "      <td>http://spectacle.berkeley.edu/</td>\n",
       "    </tr>\n",
       "    <tr>\n",
       "      <th>17</th>\n",
       "      <td>http://www.calacademy.org/</td>\n",
       "    </tr>\n",
       "    <tr>\n",
       "      <th>4795</th>\n",
       "      <td>http://www.scag.org</td>\n",
       "    </tr>\n",
       "  </tbody>\n",
       "</table>\n",
       "</div>"
      ],
      "text/plain": [
       "                                     Destination\n",
       "4391                  http://search.ucdavis.edu/\n",
       "1488                     http://www.ucdavis.edu/\n",
       "997             http://www.gene.com/ae/bioforum/\n",
       "2408                     http://www.lib.uci.edu/\n",
       "8051  http://vision.berkeley.edu/VSP/index.shtml\n",
       "1489                         http://www.uci.edu/\n",
       "718                 http://www.students.ucr.edu/\n",
       "211               http://spectacle.berkeley.edu/\n",
       "17                    http://www.calacademy.org/\n",
       "4795                         http://www.scag.org"
      ]
     },
     "execution_count": 13,
     "metadata": {},
     "output_type": "execute_result"
    }
   ],
   "source": [
    "# return the URLs of the top few webpages\n",
    "rankedPages = pandas.DataFrame(columns = ['Type', 'Source', 'Destination'])\n",
    "\n",
    "# add the top 10-ranked webpages\n",
    "for i in range(10):\n",
    "    row = data.loc[(data['Type'] == 'n')\n",
    "                   & (data['Source'] == ranks[i])]\n",
    "    rankedPages = rankedPages.append(row)\n",
    "    \n",
    "# display the top 10\n",
    "rankedPages.drop(columns = ['Type', 'Source'])"
   ]
  }
 ],
 "metadata": {
  "kernelspec": {
   "display_name": "Python 3.7 (DL)",
   "language": "python",
   "name": "dl"
  },
  "language_info": {
   "codemirror_mode": {
    "name": "ipython",
    "version": 3
   },
   "file_extension": ".py",
   "mimetype": "text/x-python",
   "name": "python",
   "nbconvert_exporter": "python",
   "pygments_lexer": "ipython3",
   "version": "3.7.7"
  }
 },
 "nbformat": 4,
 "nbformat_minor": 4
}
