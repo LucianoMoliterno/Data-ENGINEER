{
  "cells": [
    {
      "cell_type": "markdown",
      "id": "c4835956",
      "metadata": {
        "id": "c4835956"
      },
      "source": [
        "# Introducción a NumPy\n",
        "\n",
        "\n",
        "**Luciano Moliterno - Diciembre 2024**\n",
        "\n",
        "Análisis de Datos Para Finanzas\n",
        "\n",
        "*Autor*: [Luciano Moliterno](https://www.linkedin.com/in/luciano-moliterno-gonzalez/)"
      ]
    },
    {
      "cell_type": "markdown",
      "id": "8d85fda5",
      "metadata": {
        "id": "8d85fda5"
      },
      "source": [
        "Toda la librería de **NumPy** se articula alrededor de una única estructura de datos: la matriz multidimensional o ndarray (N-dimensional array).\n",
        "\n",
        "Características de un ndarray:\n",
        "- Un ndarray puede contener elementos de cualquier tipo.\n",
        "- Todos los elementos de un ndarray deben tener el mismo tipo.\n",
        "- El tamaño de un ndarray (número de elementos) se define en el momento de la creación y no puede modificarse."
      ]
    },
    {
      "cell_type": "code",
      "execution_count": 1,
      "id": "767c7dcc",
      "metadata": {
        "id": "767c7dcc"
      },
      "outputs": [],
      "source": [
        "import numpy as np"
      ]
    },
    {
      "cell_type": "markdown",
      "id": "179115cf",
      "metadata": {
        "id": "179115cf"
      },
      "source": [
        "#### Creación de un ndarray"
      ]
    },
    {
      "cell_type": "code",
      "execution_count": 2,
      "id": "41a4d7a5",
      "metadata": {
        "id": "41a4d7a5",
        "outputId": "742f56c8-3a9a-403b-ffeb-a3e378fb5e8c",
        "colab": {
          "base_uri": "https://localhost:8080/"
        }
      },
      "outputs": [
        {
          "output_type": "execute_result",
          "data": {
            "text/plain": [
              "array([[1., 1.],\n",
              "       [1., 1.]])"
            ]
          },
          "metadata": {},
          "execution_count": 2
        }
      ],
      "source": [
        "# Especificando dimensiones\n",
        "array_unos = np.ones((2, 2))\n",
        "array_unos"
      ]
    },
    {
      "cell_type": "code",
      "execution_count": 3,
      "id": "aca5bfc0",
      "metadata": {
        "id": "aca5bfc0",
        "outputId": "efd65af0-e14f-46b4-e56e-2df85d3545ad",
        "colab": {
          "base_uri": "https://localhost:8080/"
        }
      },
      "outputs": [
        {
          "output_type": "execute_result",
          "data": {
            "text/plain": [
              "array([[1., 0., 0.],\n",
              "       [0., 1., 0.],\n",
              "       [0., 0., 1.]])"
            ]
          },
          "metadata": {},
          "execution_count": 3
        }
      ],
      "source": [
        "array_identidad = np.identity(3)\n",
        "array_identidad"
      ]
    },
    {
      "cell_type": "code",
      "execution_count": 4,
      "id": "b7fc6d6b",
      "metadata": {
        "id": "b7fc6d6b",
        "outputId": "06713d63-1f05-45ea-f223-0355bdaa0160",
        "colab": {
          "base_uri": "https://localhost:8080/"
        }
      },
      "outputs": [
        {
          "output_type": "execute_result",
          "data": {
            "text/plain": [
              "array([[ 1,  2,  3,  4],\n",
              "       [ 5,  6,  7,  8],\n",
              "       [ 9, 10, 11, 12]])"
            ]
          },
          "metadata": {},
          "execution_count": 4
        }
      ],
      "source": [
        "array = np.array([[1, 2, 3, 4], [5, 6, 7, 8], [9, 10, 11, 12]])\n",
        "array"
      ]
    },
    {
      "cell_type": "markdown",
      "id": "764c65d9",
      "metadata": {
        "id": "764c65d9"
      },
      "source": [
        "#### Tipos de datos en ndarrays de NumPy\n",
        "\n",
        "<ul>\n",
        "<li><b>Enteros con signo:</b> np.int8, np.int16, np.int32 y np.int64</li>\n",
        "<li><b>Enteros sin signo:</b> np.uint8, np.uint16, np.uint32 y np.uint64</li>\n",
        "<li><b>Números en coma flotante:</b> np.float16, np.float32, np.float64, np.float128</li>\n",
        "<li><b>Booleanos:</b> np.bool</li>\n",
        "<li><b>Objetos:</b> np.object</li>\n",
        "<li><b>Cadenas de caracteres:</b> np.string\\_, np.unicode\\_</li>\n",
        "<li>...</li>\n",
        "</ul>"
      ]
    },
    {
      "cell_type": "code",
      "execution_count": 5,
      "id": "c0c303d2",
      "metadata": {
        "id": "c0c303d2",
        "outputId": "c6159046-4c1a-4e4c-f9bb-4927497e0734",
        "colab": {
          "base_uri": "https://localhost:8080/"
        }
      },
      "outputs": [
        {
          "output_type": "execute_result",
          "data": {
            "text/plain": [
              "dtype('int64')"
            ]
          },
          "metadata": {},
          "execution_count": 5
        }
      ],
      "source": [
        "array.dtype"
      ]
    },
    {
      "cell_type": "markdown",
      "id": "b5f53daa",
      "metadata": {
        "id": "b5f53daa"
      },
      "source": [
        "#### Consulta de la composición de un ndarray\n",
        "\n",
        "<ul>\n",
        "<li><b>dtype</b>: Tipo del contenido del ndarray.</li>\n",
        "<li><b>ndim</b>: Número de dimensiones/ejes del ndarray.</li>\n",
        "<li><b>shape</b>: Estructura/forma del ndarray, es decir, número de elementos en cada uno de los ejes/dimensiones.</li>\n",
        "<li><b>size</b>: Número total de elementos en el ndarray.</li>\n",
        "</ul>"
      ]
    },
    {
      "cell_type": "code",
      "execution_count": 6,
      "id": "5beff16e-f96a-4681-9c39-62e357016b55",
      "metadata": {
        "colab": {
          "base_uri": "https://localhost:8080/"
        },
        "id": "5beff16e-f96a-4681-9c39-62e357016b55",
        "outputId": "a785c45a-8b7d-4705-e254-fb54f544074b"
      },
      "outputs": [
        {
          "output_type": "execute_result",
          "data": {
            "text/plain": [
              "array([[ 1,  2,  3,  4],\n",
              "       [ 5,  6,  7,  8],\n",
              "       [ 9, 10, 11, 12]])"
            ]
          },
          "metadata": {},
          "execution_count": 6
        }
      ],
      "source": [
        "array"
      ]
    },
    {
      "cell_type": "code",
      "execution_count": 7,
      "id": "96fc8e6e",
      "metadata": {
        "id": "96fc8e6e",
        "outputId": "57145401-2c0b-40db-ed49-e99b08950956",
        "colab": {
          "base_uri": "https://localhost:8080/"
        }
      },
      "outputs": [
        {
          "output_type": "execute_result",
          "data": {
            "text/plain": [
              "(3, 4)"
            ]
          },
          "metadata": {},
          "execution_count": 7
        }
      ],
      "source": [
        "array.shape"
      ]
    },
    {
      "cell_type": "code",
      "execution_count": 8,
      "id": "82b11693",
      "metadata": {
        "id": "82b11693",
        "outputId": "f523c214-9f58-435a-9480-4f39744fe08f",
        "colab": {
          "base_uri": "https://localhost:8080/"
        }
      },
      "outputs": [
        {
          "output_type": "execute_result",
          "data": {
            "text/plain": [
              "12"
            ]
          },
          "metadata": {},
          "execution_count": 8
        }
      ],
      "source": [
        "array.size"
      ]
    },
    {
      "cell_type": "markdown",
      "id": "ec92ae7e",
      "metadata": {
        "id": "ec92ae7e"
      },
      "source": [
        "#### Operaciones aritméticas entre ndarrays"
      ]
    },
    {
      "cell_type": "code",
      "execution_count": 9,
      "id": "f50c3a39",
      "metadata": {
        "id": "f50c3a39",
        "outputId": "cb94085f-0ad8-4730-a2c1-de33daef3e6e",
        "colab": {
          "base_uri": "https://localhost:8080/"
        }
      },
      "outputs": [
        {
          "output_type": "execute_result",
          "data": {
            "text/plain": [
              "array([[ 6,  7,  8,  9],\n",
              "       [10, 11, 12, 13],\n",
              "       [14, 15, 16, 17]])"
            ]
          },
          "metadata": {},
          "execution_count": 9
        }
      ],
      "source": [
        "array + 5"
      ]
    },
    {
      "cell_type": "code",
      "execution_count": 10,
      "id": "e9554772",
      "metadata": {
        "id": "e9554772",
        "outputId": "923c521c-5340-4387-c7f3-66a097570c02",
        "colab": {
          "base_uri": "https://localhost:8080/"
        }
      },
      "outputs": [
        {
          "output_type": "execute_result",
          "data": {
            "text/plain": [
              "array([[0, 0, 0, 0],\n",
              "       [0, 0, 0, 0],\n",
              "       [0, 0, 0, 0]])"
            ]
          },
          "metadata": {},
          "execution_count": 10
        }
      ],
      "source": [
        "array - array"
      ]
    },
    {
      "cell_type": "markdown",
      "id": "2889a85d",
      "metadata": {
        "id": "2889a85d"
      },
      "source": [
        "#### Indexación"
      ]
    },
    {
      "cell_type": "code",
      "execution_count": 17,
      "id": "c67e92df",
      "metadata": {
        "id": "c67e92df",
        "outputId": "64688c7e-54ec-4092-ba89-b523e55f9ddc",
        "colab": {
          "base_uri": "https://localhost:8080/"
        }
      },
      "outputs": [
        {
          "output_type": "execute_result",
          "data": {
            "text/plain": [
              "array([[ 1,  2,  3,  4],\n",
              "       [ 5,  6,  7,  8],\n",
              "       [ 9, 10, 11, 12]])"
            ]
          },
          "metadata": {},
          "execution_count": 17
        }
      ],
      "source": [
        "array"
      ]
    },
    {
      "cell_type": "code",
      "execution_count": 18,
      "id": "7f0b2ab3",
      "metadata": {
        "id": "7f0b2ab3",
        "outputId": "9af35776-d1d1-4709-dc0f-caebeda76dee",
        "colab": {
          "base_uri": "https://localhost:8080/"
        }
      },
      "outputs": [
        {
          "output_type": "execute_result",
          "data": {
            "text/plain": [
              "array([5, 6, 7, 8])"
            ]
          },
          "metadata": {},
          "execution_count": 18
        }
      ],
      "source": [
        "array[1]"
      ]
    },
    {
      "cell_type": "code",
      "execution_count": 19,
      "id": "d65b6418",
      "metadata": {
        "id": "d65b6418",
        "outputId": "d05daadd-df19-4914-947d-86297c7ab41e",
        "colab": {
          "base_uri": "https://localhost:8080/"
        }
      },
      "outputs": [
        {
          "output_type": "execute_result",
          "data": {
            "text/plain": [
              "array([ 9, 10, 11, 12])"
            ]
          },
          "metadata": {},
          "execution_count": 19
        }
      ],
      "source": [
        "array[-1]"
      ]
    },
    {
      "cell_type": "code",
      "execution_count": 20,
      "id": "1959bec1-074e-4b65-a6e6-22caea64473b",
      "metadata": {
        "colab": {
          "base_uri": "https://localhost:8080/"
        },
        "id": "1959bec1-074e-4b65-a6e6-22caea64473b",
        "outputId": "62fa4b51-f614-439d-8c61-12edd8fc365a"
      },
      "outputs": [
        {
          "output_type": "execute_result",
          "data": {
            "text/plain": [
              "array([1, 2, 3, 4])"
            ]
          },
          "metadata": {},
          "execution_count": 20
        }
      ],
      "source": [
        "array[0]"
      ]
    },
    {
      "cell_type": "code",
      "execution_count": 25,
      "id": "693bc881-04c5-4a03-a48a-fe6a810a853d",
      "metadata": {
        "colab": {
          "base_uri": "https://localhost:8080/"
        },
        "id": "693bc881-04c5-4a03-a48a-fe6a810a853d",
        "outputId": "e70ea3d7-2dfe-438a-8689-a8c5087fbf9a"
      },
      "outputs": [
        {
          "output_type": "execute_result",
          "data": {
            "text/plain": [
              "2"
            ]
          },
          "metadata": {},
          "execution_count": 25
        }
      ],
      "source": [
        "int(array[0][1])"
      ]
    },
    {
      "cell_type": "code",
      "execution_count": 26,
      "id": "db16fad4-bb52-4e21-9a59-aa646a0856f4",
      "metadata": {
        "colab": {
          "base_uri": "https://localhost:8080/",
          "height": 35
        },
        "id": "db16fad4-bb52-4e21-9a59-aa646a0856f4",
        "outputId": "46f6dd95-887f-4683-fe2c-69d7777ae59d"
      },
      "outputs": [
        {
          "output_type": "execute_result",
          "data": {
            "text/plain": [
              "'1.26.4'"
            ],
            "application/vnd.google.colaboratory.intrinsic+json": {
              "type": "string"
            }
          },
          "metadata": {},
          "execution_count": 26
        }
      ],
      "source": [
        "np.__version__"
      ]
    },
    {
      "cell_type": "code",
      "execution_count": 28,
      "id": "48cc0a62-bc56-4de0-8299-1fb5342d51e8",
      "metadata": {
        "colab": {
          "base_uri": "https://localhost:8080/"
        },
        "id": "48cc0a62-bc56-4de0-8299-1fb5342d51e8",
        "outputId": "7f19dd4e-6feb-48e1-b1ef-b37d4fa2404d"
      },
      "outputs": [
        {
          "output_type": "execute_result",
          "data": {
            "text/plain": [
              "2"
            ]
          },
          "metadata": {},
          "execution_count": 28
        }
      ],
      "source": [
        "array[0,1]"
      ]
    },
    {
      "cell_type": "code",
      "execution_count": 29,
      "id": "06cc045d-2abc-42fd-a310-6432f14f0394",
      "metadata": {
        "colab": {
          "base_uri": "https://localhost:8080/"
        },
        "id": "06cc045d-2abc-42fd-a310-6432f14f0394",
        "outputId": "e9fe72dc-419c-4801-df26-fbe561d9eeff"
      },
      "outputs": [
        {
          "output_type": "execute_result",
          "data": {
            "text/plain": [
              "array([[ 1,  2,  3,  4],\n",
              "       [ 5,  6,  7,  8],\n",
              "       [ 9, 10, 11, 12]])"
            ]
          },
          "metadata": {},
          "execution_count": 29
        }
      ],
      "source": [
        "array"
      ]
    },
    {
      "cell_type": "code",
      "execution_count": 31,
      "id": "fa159c94-10d1-4305-9d26-a021367d7f2e",
      "metadata": {
        "colab": {
          "base_uri": "https://localhost:8080/"
        },
        "id": "fa159c94-10d1-4305-9d26-a021367d7f2e",
        "outputId": "addf0edd-4873-4577-ff73-ddbbbc387d88"
      },
      "outputs": [
        {
          "output_type": "execute_result",
          "data": {
            "text/plain": [
              "array([ 2, 10])"
            ]
          },
          "metadata": {},
          "execution_count": 31
        }
      ],
      "source": [
        "array[[0,2],1]"
      ]
    }
  ],
  "metadata": {
    "colab": {
      "provenance": []
    },
    "kernelspec": {
      "display_name": "Python 3 (ipykernel)",
      "language": "python",
      "name": "python3"
    },
    "language_info": {
      "codemirror_mode": {
        "name": "ipython",
        "version": 3
      },
      "file_extension": ".py",
      "mimetype": "text/x-python",
      "name": "python",
      "nbconvert_exporter": "python",
      "pygments_lexer": "ipython3",
      "version": "3.12.6"
    }
  },
  "nbformat": 4,
  "nbformat_minor": 5
}