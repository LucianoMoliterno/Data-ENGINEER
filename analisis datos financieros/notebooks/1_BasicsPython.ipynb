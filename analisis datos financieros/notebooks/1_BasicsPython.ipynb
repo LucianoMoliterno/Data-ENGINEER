{
  "cells": [
    {
      "cell_type": "markdown",
      "id": "f47a26b4",
      "metadata": {
        "id": "f47a26b4"
      },
      "source": [
        "# Introducción a Python\n",
        "\n",
        "\n",
        "**Luciano Moliterno - Diciembre 2024**\n",
        "\n",
        "Análisis de Datos Para Finanzas\n",
        "\n",
        "*Autor*: [Luciano Moliterno](https://www.linkedin.com/in/luciano-moliterno-gonzalez/)"
      ]
    },
    {
      "cell_type": "markdown",
      "id": "3f0b2e1b",
      "metadata": {
        "id": "3f0b2e1b"
      },
      "source": [
        "# Conceptos básicos"
      ]
    },
    {
      "cell_type": "markdown",
      "id": "04a7f98d",
      "metadata": {
        "id": "04a7f98d"
      },
      "source": [
        "#### Variables\n",
        "\n",
        "- Su nombre puede contener caracteres alfanuméricos\n",
        "- Guión bajo\n",
        "\n",
        "Hay que tratar de utilizar nombres de variables autoexplicativos."
      ]
    },
    {
      "cell_type": "code",
      "execution_count": 1,
      "id": "42708476",
      "metadata": {
        "id": "42708476"
      },
      "outputs": [],
      "source": [
        "codigo = '0124'"
      ]
    },
    {
      "cell_type": "code",
      "execution_count": 2,
      "id": "71a00d90-a7e2-49ac-ba77-f12bbdcef9d1",
      "metadata": {
        "colab": {
          "base_uri": "https://localhost:8080/",
          "height": 35
        },
        "id": "71a00d90-a7e2-49ac-ba77-f12bbdcef9d1",
        "outputId": "e1b81295-c11e-4cde-b7ca-dd5ae137ff7d"
      },
      "outputs": [
        {
          "output_type": "execute_result",
          "data": {
            "text/plain": [
              "'0124'"
            ],
            "application/vnd.google.colaboratory.intrinsic+json": {
              "type": "string"
            }
          },
          "metadata": {},
          "execution_count": 2
        }
      ],
      "source": [
        "codigo"
      ]
    },
    {
      "cell_type": "markdown",
      "id": "7c9ad08e",
      "metadata": {
        "id": "7c9ad08e"
      },
      "source": [
        "#### Comentarios\n",
        "\n",
        "Para introducir comentarios en Python, se debe hacer precedido del carácter \"#\"."
      ]
    },
    {
      "cell_type": "code",
      "execution_count": 3,
      "id": "ad422657",
      "metadata": {
        "id": "ad422657"
      },
      "outputs": [],
      "source": [
        "# Esto es un comentario"
      ]
    },
    {
      "cell_type": "markdown",
      "id": "ef426edd",
      "metadata": {
        "id": "ef426edd"
      },
      "source": [
        "# Tipos de datos"
      ]
    },
    {
      "cell_type": "markdown",
      "id": "76095e73",
      "metadata": {
        "id": "76095e73"
      },
      "source": [
        "<li>Cadenas de caracteres o <i>str</i>: Se especifican entre comillas simples, dobles o triples</li>\n",
        "<li>Valores numéricos enteros o <i>int</i>: No incluyen punto decimal</li>\n",
        "<li>Valores numéricos decimales o <i>float</i>: Incluyen punto decimal</li>\n",
        "<li>Valores booleanos o <i>bool</i>: True / False (case sensitive)</li>\n",
        "\n",
        "\n",
        "Para conocer el tipo de una variable se puede usar la función de Python <b>type</b>."
      ]
    },
    {
      "cell_type": "code",
      "execution_count": 4,
      "id": "8c4a9a5d",
      "metadata": {
        "colab": {
          "base_uri": "https://localhost:8080/"
        },
        "id": "8c4a9a5d",
        "outputId": "1e69890b-229a-4dc7-a2e9-c8bc792b1d4e"
      },
      "outputs": [
        {
          "output_type": "execute_result",
          "data": {
            "text/plain": [
              "str"
            ]
          },
          "metadata": {},
          "execution_count": 4
        }
      ],
      "source": [
        "cadena = \"Esto es una cadena\"\n",
        "type(cadena)"
      ]
    },
    {
      "cell_type": "code",
      "execution_count": 5,
      "id": "72760619",
      "metadata": {
        "colab": {
          "base_uri": "https://localhost:8080/"
        },
        "id": "72760619",
        "outputId": "be5e9f32-1de5-4e23-d591-8a439c0d46b1"
      },
      "outputs": [
        {
          "output_type": "execute_result",
          "data": {
            "text/plain": [
              "int"
            ]
          },
          "metadata": {},
          "execution_count": 5
        }
      ],
      "source": [
        "entero = 10\n",
        "type(entero)"
      ]
    },
    {
      "cell_type": "code",
      "execution_count": 6,
      "id": "4216d0e0",
      "metadata": {
        "colab": {
          "base_uri": "https://localhost:8080/"
        },
        "id": "4216d0e0",
        "outputId": "60a03ca9-35fb-4e17-c627-f82271fa2737"
      },
      "outputs": [
        {
          "output_type": "execute_result",
          "data": {
            "text/plain": [
              "float"
            ]
          },
          "metadata": {},
          "execution_count": 6
        }
      ],
      "source": [
        "decimal = 10.1\n",
        "type(decimal)"
      ]
    },
    {
      "cell_type": "code",
      "execution_count": 7,
      "id": "8b5330f1",
      "metadata": {
        "colab": {
          "base_uri": "https://localhost:8080/"
        },
        "id": "8b5330f1",
        "outputId": "cb8cccae-13ee-4bf7-ce84-b81d5d9ee2e7"
      },
      "outputs": [
        {
          "output_type": "execute_result",
          "data": {
            "text/plain": [
              "bool"
            ]
          },
          "metadata": {},
          "execution_count": 7
        }
      ],
      "source": [
        "booleano = True\n",
        "type(booleano)"
      ]
    },
    {
      "cell_type": "code",
      "execution_count": 8,
      "id": "a9b12e0e-d253-4bb1-8e26-2475d804fe8f",
      "metadata": {
        "colab": {
          "base_uri": "https://localhost:8080/"
        },
        "id": "a9b12e0e-d253-4bb1-8e26-2475d804fe8f",
        "outputId": "f0a26687-5d9e-43bd-8358-98541fe9edb4"
      },
      "outputs": [
        {
          "output_type": "execute_result",
          "data": {
            "text/plain": [
              "bool"
            ]
          },
          "metadata": {},
          "execution_count": 8
        }
      ],
      "source": [
        "booleano = True\n",
        "type(booleano)"
      ]
    },
    {
      "cell_type": "markdown",
      "id": "494422eb",
      "metadata": {
        "id": "494422eb"
      },
      "source": [
        "# Operadores básicos"
      ]
    },
    {
      "cell_type": "markdown",
      "id": "c8800161",
      "metadata": {
        "id": "c8800161"
      },
      "source": [
        "\n",
        "Al igual que en otros lenguajes de programación tenemos un conjunto diverso de operadores para aplicar a variables y valores:\n",
        "\n",
        "<li>Aritméticos: +, -, \\*, /, \\*\\*, %, //</li>\n",
        "<li>Lógicos: and, or, not</li>\n",
        "<li>Comparativos: ==, !=, <>, >, <, >=, <=</li>\n",
        "<li>Asignación: =, +=, -=. \\*=, /=, \\*\\*=, %=, //=</li>\n",
        "</ul>"
      ]
    },
    {
      "cell_type": "markdown",
      "id": "79143143",
      "metadata": {
        "id": "79143143"
      },
      "source": [
        "#### Operaciones aritméticas"
      ]
    },
    {
      "cell_type": "code",
      "execution_count": 14,
      "id": "d0784586",
      "metadata": {
        "colab": {
          "base_uri": "https://localhost:8080/"
        },
        "id": "d0784586",
        "outputId": "f214e8fd-d080-4e36-b2de-2b0420ade428"
      },
      "outputs": [
        {
          "output_type": "execute_result",
          "data": {
            "text/plain": [
              "3"
            ]
          },
          "metadata": {},
          "execution_count": 14
        }
      ],
      "source": [
        "a = 1 + 2\n",
        "a"
      ]
    },
    {
      "cell_type": "code",
      "execution_count": 15,
      "id": "1ce35457",
      "metadata": {
        "colab": {
          "base_uri": "https://localhost:8080/"
        },
        "id": "1ce35457",
        "outputId": "5536f50d-26a7-4c3f-844e-5a57978a9a6b"
      },
      "outputs": [
        {
          "output_type": "execute_result",
          "data": {
            "text/plain": [
              "5.0"
            ]
          },
          "metadata": {},
          "execution_count": 15
        }
      ],
      "source": [
        "b = 10/2\n",
        "b"
      ]
    },
    {
      "cell_type": "code",
      "execution_count": 16,
      "id": "249816fe",
      "metadata": {
        "colab": {
          "base_uri": "https://localhost:8080/"
        },
        "id": "249816fe",
        "outputId": "99556592-22e9-4bb7-d988-c6062bd6de94"
      },
      "outputs": [
        {
          "output_type": "execute_result",
          "data": {
            "text/plain": [
              "9"
            ]
          },
          "metadata": {},
          "execution_count": 16
        }
      ],
      "source": [
        "c = 3**2\n",
        "c"
      ]
    },
    {
      "cell_type": "code",
      "execution_count": 17,
      "id": "05480da3-0a7b-460f-b2f5-224046e941dc",
      "metadata": {
        "colab": {
          "base_uri": "https://localhost:8080/"
        },
        "id": "05480da3-0a7b-460f-b2f5-224046e941dc",
        "outputId": "d6bd6baf-999b-4d7c-823f-fafaba3f986c"
      },
      "outputs": [
        {
          "output_type": "execute_result",
          "data": {
            "text/plain": [
              "1"
            ]
          },
          "metadata": {},
          "execution_count": 17
        }
      ],
      "source": [
        "10%3"
      ]
    },
    {
      "cell_type": "code",
      "execution_count": 18,
      "id": "c34b34cc-10bb-404f-a18e-77c024b3345e",
      "metadata": {
        "colab": {
          "base_uri": "https://localhost:8080/"
        },
        "id": "c34b34cc-10bb-404f-a18e-77c024b3345e",
        "outputId": "4c1e4b26-ccdb-4488-c519-22ca25dd1c95"
      },
      "outputs": [
        {
          "output_type": "execute_result",
          "data": {
            "text/plain": [
              "3"
            ]
          },
          "metadata": {},
          "execution_count": 18
        }
      ],
      "source": [
        "10//3"
      ]
    },
    {
      "cell_type": "markdown",
      "id": "b8b25a14",
      "metadata": {
        "id": "b8b25a14"
      },
      "source": [
        "#### Comparativos"
      ]
    },
    {
      "cell_type": "code",
      "execution_count": 19,
      "id": "7d93a7fb-63c4-4eef-af25-127097b6fe64",
      "metadata": {
        "colab": {
          "base_uri": "https://localhost:8080/"
        },
        "id": "7d93a7fb-63c4-4eef-af25-127097b6fe64",
        "outputId": "d1b550aa-ea08-4c53-a498-6e89b8c3b088"
      },
      "outputs": [
        {
          "output_type": "execute_result",
          "data": {
            "text/plain": [
              "3"
            ]
          },
          "metadata": {},
          "execution_count": 19
        }
      ],
      "source": [
        "a"
      ]
    },
    {
      "cell_type": "code",
      "execution_count": 21,
      "id": "f416f56b-34f0-4796-a3b6-c4a7e0fe60ae",
      "metadata": {
        "colab": {
          "base_uri": "https://localhost:8080/"
        },
        "id": "f416f56b-34f0-4796-a3b6-c4a7e0fe60ae",
        "outputId": "b820ac52-cc7b-45be-abdd-30bce2a465b1"
      },
      "outputs": [
        {
          "output_type": "execute_result",
          "data": {
            "text/plain": [
              "5.0"
            ]
          },
          "metadata": {},
          "execution_count": 21
        }
      ],
      "source": [
        "b"
      ]
    },
    {
      "cell_type": "code",
      "execution_count": 22,
      "id": "577adad1",
      "metadata": {
        "colab": {
          "base_uri": "https://localhost:8080/"
        },
        "id": "577adad1",
        "outputId": "82222b37-4410-4014-9ac0-ed36cc9dd222"
      },
      "outputs": [
        {
          "output_type": "execute_result",
          "data": {
            "text/plain": [
              "False"
            ]
          },
          "metadata": {},
          "execution_count": 22
        }
      ],
      "source": [
        "a == b"
      ]
    },
    {
      "cell_type": "code",
      "execution_count": 23,
      "id": "e24b7405",
      "metadata": {
        "colab": {
          "base_uri": "https://localhost:8080/"
        },
        "id": "e24b7405",
        "outputId": "ad6525bf-054a-49a0-abdb-ec3fabc339bd"
      },
      "outputs": [
        {
          "output_type": "execute_result",
          "data": {
            "text/plain": [
              "True"
            ]
          },
          "metadata": {},
          "execution_count": 23
        }
      ],
      "source": [
        "a < b"
      ]
    },
    {
      "cell_type": "markdown",
      "id": "9c677f14",
      "metadata": {
        "id": "9c677f14"
      },
      "source": [
        "#### Lógicos"
      ]
    },
    {
      "cell_type": "code",
      "execution_count": 24,
      "id": "88ea17b2",
      "metadata": {
        "colab": {
          "base_uri": "https://localhost:8080/"
        },
        "id": "88ea17b2",
        "outputId": "46a9afdb-543a-4cac-bb9d-9b378982f46d"
      },
      "outputs": [
        {
          "output_type": "execute_result",
          "data": {
            "text/plain": [
              "True"
            ]
          },
          "metadata": {},
          "execution_count": 24
        }
      ],
      "source": [
        "a == 3 and b == 5"
      ]
    },
    {
      "cell_type": "code",
      "execution_count": 25,
      "id": "69010dd3",
      "metadata": {
        "colab": {
          "base_uri": "https://localhost:8080/"
        },
        "id": "69010dd3",
        "outputId": "32d0d49b-29f6-4def-aa03-81c1e86f3c97"
      },
      "outputs": [
        {
          "output_type": "execute_result",
          "data": {
            "text/plain": [
              "True"
            ]
          },
          "metadata": {},
          "execution_count": 25
        }
      ],
      "source": [
        "a > 1 or b < 3"
      ]
    },
    {
      "cell_type": "markdown",
      "id": "f95b24bb",
      "metadata": {
        "id": "f95b24bb"
      },
      "source": [
        "# Secuencias\n",
        "\n",
        "Una secuencia es un listado unidimensional y ordenado de valores que pueden ser de cualquier tipo, existen tres tipos: tuplas, listas y cadenas de caracteres."
      ]
    },
    {
      "cell_type": "markdown",
      "id": "5AAm8g4Mi3a9",
      "metadata": {
        "id": "5AAm8g4Mi3a9"
      },
      "source": [
        "#### Tuplas\n",
        "\n",
        "\n"
      ]
    },
    {
      "cell_type": "code",
      "execution_count": 26,
      "id": "02120770",
      "metadata": {
        "colab": {
          "base_uri": "https://localhost:8080/"
        },
        "id": "02120770",
        "outputId": "57ea7f4b-1964-44d3-c945-88d3843575b3"
      },
      "outputs": [
        {
          "output_type": "execute_result",
          "data": {
            "text/plain": [
              "(1, 2, 3, 4)"
            ]
          },
          "metadata": {},
          "execution_count": 26
        }
      ],
      "source": [
        "tupla = (1, 2, 3, 4)\n",
        "tupla"
      ]
    },
    {
      "cell_type": "markdown",
      "id": "aNHuXHfCi-P3",
      "metadata": {
        "id": "aNHuXHfCi-P3"
      },
      "source": [
        "#### Listas"
      ]
    },
    {
      "cell_type": "code",
      "execution_count": 130,
      "id": "93b2fad9",
      "metadata": {
        "colab": {
          "base_uri": "https://localhost:8080/"
        },
        "id": "93b2fad9",
        "outputId": "3d92e5a7-4ef0-4874-e854-9620bbc482ac"
      },
      "outputs": [
        {
          "output_type": "execute_result",
          "data": {
            "text/plain": [
              "[1, 2.5, 3, 4]"
            ]
          },
          "metadata": {},
          "execution_count": 130
        }
      ],
      "source": [
        "lista = [1, 2.5, 3, 4]\n",
        "lista"
      ]
    },
    {
      "cell_type": "markdown",
      "id": "8oPW_4OojBnF",
      "metadata": {
        "id": "8oPW_4OojBnF"
      },
      "source": [
        "#### Cadenas"
      ]
    },
    {
      "cell_type": "code",
      "execution_count": 131,
      "id": "b3e4adc2",
      "metadata": {
        "colab": {
          "base_uri": "https://localhost:8080/",
          "height": 35
        },
        "id": "b3e4adc2",
        "outputId": "823d588b-6f9a-48b0-a94a-d03d8b5d98bf"
      },
      "outputs": [
        {
          "output_type": "execute_result",
          "data": {
            "text/plain": [
              "'esto es una cadena'"
            ],
            "application/vnd.google.colaboratory.intrinsic+json": {
              "type": "string"
            }
          },
          "metadata": {},
          "execution_count": 131
        }
      ],
      "source": [
        "string = \"esto es una cadena\"\n",
        "string"
      ]
    },
    {
      "cell_type": "markdown",
      "id": "90c6c9d5",
      "metadata": {
        "id": "90c6c9d5"
      },
      "source": [
        "#### Indexación en secuencias"
      ]
    },
    {
      "cell_type": "markdown",
      "id": "34d16bfe",
      "metadata": {
        "id": "34d16bfe"
      },
      "source": [
        "<font color='#d64040'>**CUIDADO**</font>: En Python el primer índice es el 0."
      ]
    },
    {
      "cell_type": "code",
      "execution_count": 132,
      "id": "b1d7bc22-14c7-41c0-ac71-4efb78813e45",
      "metadata": {
        "colab": {
          "base_uri": "https://localhost:8080/"
        },
        "id": "b1d7bc22-14c7-41c0-ac71-4efb78813e45",
        "outputId": "97a45da5-a557-4f72-aa7d-333f4aa569b6"
      },
      "outputs": [
        {
          "output_type": "execute_result",
          "data": {
            "text/plain": [
              "(1, 2, 3, 4)"
            ]
          },
          "metadata": {},
          "execution_count": 132
        }
      ],
      "source": [
        "tupla"
      ]
    },
    {
      "cell_type": "code",
      "execution_count": 133,
      "id": "5fca300d",
      "metadata": {
        "colab": {
          "base_uri": "https://localhost:8080/"
        },
        "id": "5fca300d",
        "outputId": "6642ebce-1a54-42a4-fc63-88e5ab05645b"
      },
      "outputs": [
        {
          "output_type": "execute_result",
          "data": {
            "text/plain": [
              "1"
            ]
          },
          "metadata": {},
          "execution_count": 133
        }
      ],
      "source": [
        "tupla[0]"
      ]
    },
    {
      "cell_type": "code",
      "execution_count": 134,
      "id": "cc6cf0f7",
      "metadata": {
        "colab": {
          "base_uri": "https://localhost:8080/"
        },
        "id": "cc6cf0f7",
        "outputId": "ef300d70-d83c-4283-e362-c3a0e1a85feb"
      },
      "outputs": [
        {
          "output_type": "execute_result",
          "data": {
            "text/plain": [
              "(3, 4)"
            ]
          },
          "metadata": {},
          "execution_count": 134
        }
      ],
      "source": [
        "tupla[2:]"
      ]
    },
    {
      "cell_type": "code",
      "execution_count": 135,
      "id": "10bdc75b",
      "metadata": {
        "colab": {
          "base_uri": "https://localhost:8080/"
        },
        "id": "10bdc75b",
        "outputId": "5e9821cc-c327-48b2-b0ad-e75a6750fc71"
      },
      "outputs": [
        {
          "output_type": "execute_result",
          "data": {
            "text/plain": [
              "4"
            ]
          },
          "metadata": {},
          "execution_count": 135
        }
      ],
      "source": [
        "tupla[-1]"
      ]
    },
    {
      "cell_type": "code",
      "execution_count": 136,
      "id": "c21289ac-fbd2-4888-8916-9fef0532f1f6",
      "metadata": {
        "colab": {
          "base_uri": "https://localhost:8080/"
        },
        "id": "c21289ac-fbd2-4888-8916-9fef0532f1f6",
        "outputId": "b34f3a1c-d7ac-4b5f-e719-7ef516339cba"
      },
      "outputs": [
        {
          "output_type": "execute_result",
          "data": {
            "text/plain": [
              "3"
            ]
          },
          "metadata": {},
          "execution_count": 136
        }
      ],
      "source": [
        "tupla[-2]"
      ]
    },
    {
      "cell_type": "code",
      "execution_count": 137,
      "id": "ed7dfc96-b9bf-4640-8d60-219579121daa",
      "metadata": {
        "colab": {
          "base_uri": "https://localhost:8080/"
        },
        "id": "ed7dfc96-b9bf-4640-8d60-219579121daa",
        "outputId": "10bfa393-f917-4803-a2a5-a1fb9311f81c"
      },
      "outputs": [
        {
          "output_type": "execute_result",
          "data": {
            "text/plain": [
              "[1, 2.5, 3, 4]"
            ]
          },
          "metadata": {},
          "execution_count": 137
        }
      ],
      "source": [
        "lista"
      ]
    },
    {
      "cell_type": "code",
      "execution_count": 138,
      "id": "831e9992",
      "metadata": {
        "colab": {
          "base_uri": "https://localhost:8080/"
        },
        "id": "831e9992",
        "outputId": "a2d53930-88a0-4702-9f87-87036b1e0fb6"
      },
      "outputs": [
        {
          "output_type": "execute_result",
          "data": {
            "text/plain": [
              "1"
            ]
          },
          "metadata": {},
          "execution_count": 138
        }
      ],
      "source": [
        "lista[0]"
      ]
    },
    {
      "cell_type": "code",
      "execution_count": 139,
      "id": "ed581941",
      "metadata": {
        "colab": {
          "base_uri": "https://localhost:8080/"
        },
        "id": "ed581941",
        "outputId": "f18c75ef-22c6-4d1a-e1c6-aec8f162a3e0"
      },
      "outputs": [
        {
          "output_type": "execute_result",
          "data": {
            "text/plain": [
              "4"
            ]
          },
          "metadata": {},
          "execution_count": 139
        }
      ],
      "source": [
        "lista[3]"
      ]
    },
    {
      "cell_type": "code",
      "execution_count": 140,
      "id": "0bf6c391-e76b-4813-bb30-2e6c8644f3d5",
      "metadata": {
        "colab": {
          "base_uri": "https://localhost:8080/",
          "height": 35
        },
        "id": "0bf6c391-e76b-4813-bb30-2e6c8644f3d5",
        "outputId": "35315b77-e8d8-422c-fdf3-f9fcc777a322"
      },
      "outputs": [
        {
          "output_type": "execute_result",
          "data": {
            "text/plain": [
              "'esto es una cadena'"
            ],
            "application/vnd.google.colaboratory.intrinsic+json": {
              "type": "string"
            }
          },
          "metadata": {},
          "execution_count": 140
        }
      ],
      "source": [
        "string"
      ]
    },
    {
      "cell_type": "code",
      "execution_count": 141,
      "id": "d0b17109",
      "metadata": {
        "colab": {
          "base_uri": "https://localhost:8080/",
          "height": 35
        },
        "id": "d0b17109",
        "outputId": "02183de9-9a23-440b-89f6-4fab7f5b6536"
      },
      "outputs": [
        {
          "output_type": "execute_result",
          "data": {
            "text/plain": [
              "'e'"
            ],
            "application/vnd.google.colaboratory.intrinsic+json": {
              "type": "string"
            }
          },
          "metadata": {},
          "execution_count": 141
        }
      ],
      "source": [
        "string[0]"
      ]
    },
    {
      "cell_type": "code",
      "execution_count": 142,
      "id": "0c311a31",
      "metadata": {
        "colab": {
          "base_uri": "https://localhost:8080/",
          "height": 35
        },
        "id": "0c311a31",
        "outputId": "3d1fb0f7-9f9e-4db0-dfe7-a322150dc258"
      },
      "outputs": [
        {
          "output_type": "execute_result",
          "data": {
            "text/plain": [
              "'esto es una cadena'"
            ],
            "application/vnd.google.colaboratory.intrinsic+json": {
              "type": "string"
            }
          },
          "metadata": {},
          "execution_count": 142
        }
      ],
      "source": [
        "string"
      ]
    },
    {
      "cell_type": "code",
      "execution_count": 143,
      "id": "inWe2NKJPkAh",
      "metadata": {
        "colab": {
          "base_uri": "https://localhost:8080/"
        },
        "id": "inWe2NKJPkAh",
        "outputId": "80c8655f-1cfd-4cae-8c7a-48318555e8e3"
      },
      "outputs": [
        {
          "output_type": "execute_result",
          "data": {
            "text/plain": [
              "18"
            ]
          },
          "metadata": {},
          "execution_count": 143
        }
      ],
      "source": [
        "len(string)"
      ]
    },
    {
      "cell_type": "markdown",
      "id": "002914f1-1182-4456-b1f5-a245e480c012",
      "metadata": {
        "id": "002914f1-1182-4456-b1f5-a245e480c012"
      },
      "source": [
        "secuencia[a:b:c]"
      ]
    },
    {
      "cell_type": "code",
      "execution_count": 144,
      "id": "JT7fHNwNPiiU",
      "metadata": {
        "colab": {
          "base_uri": "https://localhost:8080/",
          "height": 35
        },
        "id": "JT7fHNwNPiiU",
        "outputId": "83a45b35-86e7-4eb1-dcec-2c9a2bb3abf8"
      },
      "outputs": [
        {
          "output_type": "execute_result",
          "data": {
            "text/plain": [
              "'et suacdn'"
            ],
            "application/vnd.google.colaboratory.intrinsic+json": {
              "type": "string"
            }
          },
          "metadata": {},
          "execution_count": 144
        }
      ],
      "source": [
        "string[0:18:2]"
      ]
    },
    {
      "cell_type": "code",
      "execution_count": 145,
      "id": "d66ccf74",
      "metadata": {
        "colab": {
          "base_uri": "https://localhost:8080/",
          "height": 35
        },
        "id": "d66ccf74",
        "outputId": "f232ffa2-e033-44e4-b26d-75d228155cde",
        "scrolled": true
      },
      "outputs": [
        {
          "output_type": "execute_result",
          "data": {
            "text/plain": [
              "'et suacdn'"
            ],
            "application/vnd.google.colaboratory.intrinsic+json": {
              "type": "string"
            }
          },
          "metadata": {},
          "execution_count": 145
        }
      ],
      "source": [
        "string[::2]"
      ]
    },
    {
      "cell_type": "markdown",
      "id": "8c559082",
      "metadata": {
        "id": "8c559082"
      },
      "source": [
        "#### Comprobación de existencia en una secuencia"
      ]
    },
    {
      "cell_type": "code",
      "execution_count": 146,
      "id": "a246c053",
      "metadata": {
        "colab": {
          "base_uri": "https://localhost:8080/"
        },
        "id": "a246c053",
        "outputId": "bbed204b-85c6-4f51-8db4-7bd69ba028cb"
      },
      "outputs": [
        {
          "output_type": "execute_result",
          "data": {
            "text/plain": [
              "(1, 2, 3, 4)"
            ]
          },
          "metadata": {},
          "execution_count": 146
        }
      ],
      "source": [
        "tupla"
      ]
    },
    {
      "cell_type": "code",
      "execution_count": 147,
      "id": "65ab711f",
      "metadata": {
        "colab": {
          "base_uri": "https://localhost:8080/"
        },
        "id": "65ab711f",
        "outputId": "fbbe87ec-24e3-4a59-f497-c4a0ba45d77c"
      },
      "outputs": [
        {
          "output_type": "execute_result",
          "data": {
            "text/plain": [
              "True"
            ]
          },
          "metadata": {},
          "execution_count": 147
        }
      ],
      "source": [
        "3 in tupla"
      ]
    },
    {
      "cell_type": "code",
      "execution_count": 148,
      "id": "ddec1594",
      "metadata": {
        "colab": {
          "base_uri": "https://localhost:8080/"
        },
        "id": "ddec1594",
        "outputId": "f3dfe06e-4862-4488-b6cb-bc1debfd80b6"
      },
      "outputs": [
        {
          "output_type": "execute_result",
          "data": {
            "text/plain": [
              "False"
            ]
          },
          "metadata": {},
          "execution_count": 148
        }
      ],
      "source": [
        "2 not in tupla"
      ]
    },
    {
      "cell_type": "markdown",
      "id": "16b2d8b0",
      "metadata": {
        "id": "16b2d8b0"
      },
      "source": [
        "#### Longitud de secuencias"
      ]
    },
    {
      "cell_type": "code",
      "execution_count": 149,
      "id": "0a00287a",
      "metadata": {
        "colab": {
          "base_uri": "https://localhost:8080/"
        },
        "id": "0a00287a",
        "outputId": "6499f126-0966-4e21-ee8c-0e0922694d3f"
      },
      "outputs": [
        {
          "output_type": "execute_result",
          "data": {
            "text/plain": [
              "4"
            ]
          },
          "metadata": {},
          "execution_count": 149
        }
      ],
      "source": [
        "len(tupla)"
      ]
    },
    {
      "cell_type": "markdown",
      "id": "2d94d091",
      "metadata": {
        "id": "2d94d091"
      },
      "source": [
        "#### Repeticiones de un elemento"
      ]
    },
    {
      "cell_type": "code",
      "execution_count": 150,
      "id": "546f8379-f228-4aff-9575-2a33bffe9c03",
      "metadata": {
        "colab": {
          "base_uri": "https://localhost:8080/",
          "height": 35
        },
        "id": "546f8379-f228-4aff-9575-2a33bffe9c03",
        "outputId": "5d53c24f-f702-454a-fc38-aa9b42092b5d"
      },
      "outputs": [
        {
          "output_type": "execute_result",
          "data": {
            "text/plain": [
              "'esto es una cadena'"
            ],
            "application/vnd.google.colaboratory.intrinsic+json": {
              "type": "string"
            }
          },
          "metadata": {},
          "execution_count": 150
        }
      ],
      "source": [
        "string"
      ]
    },
    {
      "cell_type": "code",
      "execution_count": 151,
      "id": "82ff3ff4",
      "metadata": {
        "colab": {
          "base_uri": "https://localhost:8080/"
        },
        "id": "82ff3ff4",
        "outputId": "6e513b93-c44a-4adb-b7cf-d9adcc4e5e30"
      },
      "outputs": [
        {
          "output_type": "execute_result",
          "data": {
            "text/plain": [
              "3"
            ]
          },
          "metadata": {},
          "execution_count": 151
        }
      ],
      "source": [
        "string.count('a')"
      ]
    },
    {
      "cell_type": "markdown",
      "id": "2b2d51c1",
      "metadata": {
        "id": "2b2d51c1"
      },
      "source": [
        "#### Creación de secuencias numéricas"
      ]
    },
    {
      "cell_type": "code",
      "source": [
        "range(3,10)"
      ],
      "metadata": {
        "colab": {
          "base_uri": "https://localhost:8080/"
        },
        "id": "RWZvLUEikk-w",
        "outputId": "844e14fe-14bf-4e61-a2e6-50cb7a1857f6"
      },
      "id": "RWZvLUEikk-w",
      "execution_count": 152,
      "outputs": [
        {
          "output_type": "execute_result",
          "data": {
            "text/plain": [
              "range(3, 10)"
            ]
          },
          "metadata": {},
          "execution_count": 152
        }
      ]
    },
    {
      "cell_type": "code",
      "execution_count": 153,
      "id": "5564de9a",
      "metadata": {
        "colab": {
          "base_uri": "https://localhost:8080/"
        },
        "id": "5564de9a",
        "outputId": "bd626d8c-b9bb-4496-ed96-ec58f25bbe8f"
      },
      "outputs": [
        {
          "output_type": "execute_result",
          "data": {
            "text/plain": [
              "range(0, 10)"
            ]
          },
          "metadata": {},
          "execution_count": 153
        }
      ],
      "source": [
        "range(10)"
      ]
    },
    {
      "cell_type": "code",
      "execution_count": 154,
      "id": "6bf651cf",
      "metadata": {
        "colab": {
          "base_uri": "https://localhost:8080/"
        },
        "id": "6bf651cf",
        "outputId": "4f41f4da-9e80-427b-89cc-aef595b7859b"
      },
      "outputs": [
        {
          "output_type": "execute_result",
          "data": {
            "text/plain": [
              "[0, 1, 2, 3, 4, 5, 6, 7, 8, 9]"
            ]
          },
          "metadata": {},
          "execution_count": 154
        }
      ],
      "source": [
        "list(range(10))"
      ]
    },
    {
      "cell_type": "code",
      "execution_count": 155,
      "id": "d3c4497c-1f31-46b9-bd62-5224228bba04",
      "metadata": {
        "colab": {
          "base_uri": "https://localhost:8080/"
        },
        "id": "d3c4497c-1f31-46b9-bd62-5224228bba04",
        "outputId": "09e0a0e3-f363-4ef7-db8d-ab64dc281a1b"
      },
      "outputs": [
        {
          "output_type": "execute_result",
          "data": {
            "text/plain": [
              "[3, 5, 7, 9, 11]"
            ]
          },
          "metadata": {},
          "execution_count": 155
        }
      ],
      "source": [
        "list(range(3,12,2))"
      ]
    },
    {
      "cell_type": "markdown",
      "id": "82bb94a9",
      "metadata": {
        "id": "82bb94a9"
      },
      "source": [
        "#### Operaciones en listas"
      ]
    },
    {
      "cell_type": "markdown",
      "id": "fc005541",
      "metadata": {
        "id": "fc005541"
      },
      "source": [
        "Adición de un elemento por el final"
      ]
    },
    {
      "cell_type": "code",
      "execution_count": 156,
      "id": "537a6e79",
      "metadata": {
        "colab": {
          "base_uri": "https://localhost:8080/"
        },
        "id": "537a6e79",
        "outputId": "897ccab4-3907-4e93-8cfe-cc765e1c96f5"
      },
      "outputs": [
        {
          "output_type": "execute_result",
          "data": {
            "text/plain": [
              "[1, 2.5, 3, 4]"
            ]
          },
          "metadata": {},
          "execution_count": 156
        }
      ],
      "source": [
        "lista"
      ]
    },
    {
      "cell_type": "code",
      "execution_count": 157,
      "id": "384694b7",
      "metadata": {
        "id": "384694b7"
      },
      "outputs": [],
      "source": [
        "lista.append(8)"
      ]
    },
    {
      "cell_type": "code",
      "execution_count": 158,
      "id": "57869fff",
      "metadata": {
        "colab": {
          "base_uri": "https://localhost:8080/"
        },
        "id": "57869fff",
        "outputId": "10f2d1d0-8510-4e8f-e6e4-a028b434f506"
      },
      "outputs": [
        {
          "output_type": "execute_result",
          "data": {
            "text/plain": [
              "[1, 2.5, 3, 4, 8]"
            ]
          },
          "metadata": {},
          "execution_count": 158
        }
      ],
      "source": [
        "lista"
      ]
    },
    {
      "cell_type": "markdown",
      "id": "7752652d",
      "metadata": {
        "id": "7752652d"
      },
      "source": [
        "Insertar un elemento en una posición específica."
      ]
    },
    {
      "cell_type": "code",
      "execution_count": 159,
      "id": "1793c64b",
      "metadata": {
        "id": "1793c64b"
      },
      "outputs": [],
      "source": [
        "lista.insert(1, 100)"
      ]
    },
    {
      "cell_type": "code",
      "execution_count": 160,
      "id": "803bdf30",
      "metadata": {
        "colab": {
          "base_uri": "https://localhost:8080/"
        },
        "id": "803bdf30",
        "outputId": "29c526bb-6799-496c-fddd-a93a5f4d28b6"
      },
      "outputs": [
        {
          "output_type": "execute_result",
          "data": {
            "text/plain": [
              "[1, 100, 2.5, 3, 4, 8]"
            ]
          },
          "metadata": {},
          "execution_count": 160
        }
      ],
      "source": [
        "lista"
      ]
    },
    {
      "cell_type": "markdown",
      "id": "bc7c58b7",
      "metadata": {
        "id": "bc7c58b7"
      },
      "source": [
        "Eliminar un elemento en una posición específica."
      ]
    },
    {
      "cell_type": "code",
      "execution_count": 161,
      "id": "338d4be6",
      "metadata": {
        "colab": {
          "base_uri": "https://localhost:8080/"
        },
        "id": "338d4be6",
        "outputId": "c94036ee-8ccb-4bd4-eb66-317bb995103d"
      },
      "outputs": [
        {
          "output_type": "execute_result",
          "data": {
            "text/plain": [
              "100"
            ]
          },
          "metadata": {},
          "execution_count": 161
        }
      ],
      "source": [
        "lista.pop(1)"
      ]
    },
    {
      "cell_type": "code",
      "execution_count": 162,
      "id": "6bfa8be8",
      "metadata": {
        "colab": {
          "base_uri": "https://localhost:8080/"
        },
        "id": "6bfa8be8",
        "outputId": "af67637a-fd7b-4314-e012-5cef2f624845"
      },
      "outputs": [
        {
          "output_type": "execute_result",
          "data": {
            "text/plain": [
              "[1, 2.5, 3, 4, 8]"
            ]
          },
          "metadata": {},
          "execution_count": 162
        }
      ],
      "source": [
        "lista"
      ]
    },
    {
      "cell_type": "markdown",
      "id": "a1a61559",
      "metadata": {
        "id": "a1a61559"
      },
      "source": [
        "Eliminar el primer elemento coincidente."
      ]
    },
    {
      "cell_type": "code",
      "execution_count": 163,
      "id": "ef11680d",
      "metadata": {
        "id": "ef11680d"
      },
      "outputs": [],
      "source": [
        "lista.remove(8)"
      ]
    },
    {
      "cell_type": "code",
      "execution_count": 164,
      "id": "edb1be9e",
      "metadata": {
        "colab": {
          "base_uri": "https://localhost:8080/"
        },
        "id": "edb1be9e",
        "outputId": "4708e729-97bf-4de0-d532-790ce528be6f"
      },
      "outputs": [
        {
          "output_type": "execute_result",
          "data": {
            "text/plain": [
              "[1, 2.5, 3, 4]"
            ]
          },
          "metadata": {},
          "execution_count": 164
        }
      ],
      "source": [
        "lista"
      ]
    },
    {
      "cell_type": "markdown",
      "id": "6c2386f3",
      "metadata": {
        "id": "6c2386f3"
      },
      "source": [
        "Eliminar elementos."
      ]
    },
    {
      "cell_type": "code",
      "execution_count": 165,
      "id": "b73129b7",
      "metadata": {
        "colab": {
          "base_uri": "https://localhost:8080/"
        },
        "id": "b73129b7",
        "outputId": "e5831b5e-f52c-40de-efdc-cde0559dd2b0"
      },
      "outputs": [
        {
          "output_type": "execute_result",
          "data": {
            "text/plain": [
              "[1, 2.5, 3, 4]"
            ]
          },
          "metadata": {},
          "execution_count": 165
        }
      ],
      "source": [
        "lista"
      ]
    },
    {
      "cell_type": "code",
      "execution_count": 166,
      "id": "2ac24c16-7047-4716-a40a-2232d2002f0e",
      "metadata": {
        "colab": {
          "base_uri": "https://localhost:8080/"
        },
        "id": "2ac24c16-7047-4716-a40a-2232d2002f0e",
        "outputId": "6fdd2706-83e7-4e02-851f-e1169cc71f9c"
      },
      "outputs": [
        {
          "output_type": "execute_result",
          "data": {
            "text/plain": [
              "2.5"
            ]
          },
          "metadata": {},
          "execution_count": 166
        }
      ],
      "source": [
        "lista[1]"
      ]
    },
    {
      "cell_type": "code",
      "execution_count": 167,
      "id": "df5d5bf2",
      "metadata": {
        "id": "df5d5bf2"
      },
      "outputs": [],
      "source": [
        "del lista[1]"
      ]
    },
    {
      "cell_type": "code",
      "execution_count": 168,
      "id": "8790ce99",
      "metadata": {
        "colab": {
          "base_uri": "https://localhost:8080/"
        },
        "id": "8790ce99",
        "outputId": "568abecd-47f8-4749-b329-f8892638b115"
      },
      "outputs": [
        {
          "output_type": "execute_result",
          "data": {
            "text/plain": [
              "[1, 3, 4]"
            ]
          },
          "metadata": {},
          "execution_count": 168
        }
      ],
      "source": [
        "lista"
      ]
    },
    {
      "cell_type": "markdown",
      "id": "e28a35de",
      "metadata": {
        "id": "e28a35de"
      },
      "source": [
        "Ordenar listas"
      ]
    },
    {
      "cell_type": "code",
      "execution_count": 169,
      "id": "5326375b",
      "metadata": {
        "id": "5326375b"
      },
      "outputs": [],
      "source": [
        "lista.sort(reverse=True)"
      ]
    },
    {
      "cell_type": "code",
      "execution_count": 170,
      "id": "8a89a2e0",
      "metadata": {
        "colab": {
          "base_uri": "https://localhost:8080/"
        },
        "id": "8a89a2e0",
        "outputId": "809aa4e9-1e9b-4845-e841-ab40a7792cdc"
      },
      "outputs": [
        {
          "output_type": "execute_result",
          "data": {
            "text/plain": [
              "[4, 3, 1]"
            ]
          },
          "metadata": {},
          "execution_count": 170
        }
      ],
      "source": [
        "lista"
      ]
    },
    {
      "cell_type": "code",
      "execution_count": 171,
      "id": "eaf12e2d",
      "metadata": {
        "id": "eaf12e2d"
      },
      "outputs": [],
      "source": [
        "lista.sort()"
      ]
    },
    {
      "cell_type": "code",
      "execution_count": 172,
      "id": "39b72f50",
      "metadata": {
        "colab": {
          "base_uri": "https://localhost:8080/"
        },
        "id": "39b72f50",
        "outputId": "769f3777-6fbf-4f95-d5a0-984472da79c9"
      },
      "outputs": [
        {
          "output_type": "execute_result",
          "data": {
            "text/plain": [
              "[1, 3, 4]"
            ]
          },
          "metadata": {},
          "execution_count": 172
        }
      ],
      "source": [
        "lista"
      ]
    },
    {
      "cell_type": "markdown",
      "id": "d341eb38",
      "metadata": {
        "id": "d341eb38"
      },
      "source": [
        "#### Operaciones en strings"
      ]
    },
    {
      "cell_type": "markdown",
      "id": "01ea7200",
      "metadata": {
        "id": "01ea7200"
      },
      "source": [
        "Conversión a mayúsculas/minúsculas."
      ]
    },
    {
      "cell_type": "code",
      "execution_count": 173,
      "id": "f9ced69c",
      "metadata": {
        "colab": {
          "base_uri": "https://localhost:8080/",
          "height": 35
        },
        "id": "f9ced69c",
        "outputId": "a2c48ed2-abc3-47a8-d5f2-3a6415b799f7"
      },
      "outputs": [
        {
          "output_type": "execute_result",
          "data": {
            "text/plain": [
              "'esto es una cadena'"
            ],
            "application/vnd.google.colaboratory.intrinsic+json": {
              "type": "string"
            }
          },
          "metadata": {},
          "execution_count": 173
        }
      ],
      "source": [
        "string"
      ]
    },
    {
      "cell_type": "code",
      "execution_count": 174,
      "id": "66eeec17",
      "metadata": {
        "colab": {
          "base_uri": "https://localhost:8080/",
          "height": 35
        },
        "id": "66eeec17",
        "outputId": "667a3d22-eba0-4b1f-b346-c2cc8df9f046"
      },
      "outputs": [
        {
          "output_type": "execute_result",
          "data": {
            "text/plain": [
              "'ESTO ES UNA CADENA'"
            ],
            "application/vnd.google.colaboratory.intrinsic+json": {
              "type": "string"
            }
          },
          "metadata": {},
          "execution_count": 174
        }
      ],
      "source": [
        "string = string.upper()\n",
        "string"
      ]
    },
    {
      "cell_type": "code",
      "execution_count": 175,
      "id": "a2aa8216",
      "metadata": {
        "colab": {
          "base_uri": "https://localhost:8080/",
          "height": 35
        },
        "id": "a2aa8216",
        "outputId": "13cba53a-a946-497d-ce32-f7dfdefcd44e"
      },
      "outputs": [
        {
          "output_type": "execute_result",
          "data": {
            "text/plain": [
              "'esto es una cadena'"
            ],
            "application/vnd.google.colaboratory.intrinsic+json": {
              "type": "string"
            }
          },
          "metadata": {},
          "execution_count": 175
        }
      ],
      "source": [
        "string = string.lower()\n",
        "string"
      ]
    },
    {
      "cell_type": "markdown",
      "id": "b8b830ce",
      "metadata": {
        "id": "b8b830ce"
      },
      "source": [
        "Segmentación por caracter."
      ]
    },
    {
      "cell_type": "code",
      "execution_count": 176,
      "id": "0b29419a",
      "metadata": {
        "colab": {
          "base_uri": "https://localhost:8080/"
        },
        "id": "0b29419a",
        "outputId": "e09922b7-0f84-44bf-dcbc-63cd069ec937"
      },
      "outputs": [
        {
          "output_type": "execute_result",
          "data": {
            "text/plain": [
              "['esto', 'es', 'una', 'cadena']"
            ]
          },
          "metadata": {},
          "execution_count": 176
        }
      ],
      "source": [
        "string.split(' ')"
      ]
    },
    {
      "cell_type": "markdown",
      "id": "beb07478",
      "metadata": {
        "id": "beb07478"
      },
      "source": [
        "# Diccionarios\n",
        "\n",
        "Un diccionario es una estructura que:\n",
        "- Contiene un listado de pares clave-valor.\n",
        "- Cuyas claves son cadenas de caracteres o valores numéricos.\n",
        "- Cuyos valores son valores o secuencias anidadas.\n",
        "- Sin orden."
      ]
    },
    {
      "cell_type": "markdown",
      "id": "d953590a",
      "metadata": {
        "id": "d953590a"
      },
      "source": [
        "Creación de un diccionario."
      ]
    },
    {
      "cell_type": "code",
      "execution_count": 177,
      "id": "1845662c",
      "metadata": {
        "colab": {
          "base_uri": "https://localhost:8080/"
        },
        "id": "1845662c",
        "outputId": "7b9c1dfd-277a-4b50-8cf2-bc00c203f7cd"
      },
      "outputs": [
        {
          "output_type": "execute_result",
          "data": {
            "text/plain": [
              "{'clave_1': 1, 'clave_2': 'prueba'}"
            ]
          },
          "metadata": {},
          "execution_count": 177
        }
      ],
      "source": [
        "dict_1 = {\"clave_1\": 1, \"clave_2\": \"prueba\"}\n",
        "dict_1"
      ]
    },
    {
      "cell_type": "code",
      "execution_count": 180,
      "id": "2a0e278e",
      "metadata": {
        "colab": {
          "base_uri": "https://localhost:8080/"
        },
        "id": "2a0e278e",
        "outputId": "6cfddc71-366a-4039-e118-02f14880bde1"
      },
      "outputs": [
        {
          "output_type": "execute_result",
          "data": {
            "text/plain": [
              "dict_keys(['clave_1', 'clave_2'])"
            ]
          },
          "metadata": {},
          "execution_count": 180
        }
      ],
      "source": [
        "dict_1.keys()"
      ]
    },
    {
      "cell_type": "code",
      "execution_count": 181,
      "id": "841973d5",
      "metadata": {
        "colab": {
          "base_uri": "https://localhost:8080/"
        },
        "id": "841973d5",
        "outputId": "ea59cf43-a8e3-4482-acd8-7ef251c6e04a"
      },
      "outputs": [
        {
          "output_type": "execute_result",
          "data": {
            "text/plain": [
              "dict_values([1, 'prueba'])"
            ]
          },
          "metadata": {},
          "execution_count": 181
        }
      ],
      "source": [
        "dict_1.values()"
      ]
    },
    {
      "cell_type": "markdown",
      "id": "3f738717",
      "metadata": {
        "id": "3f738717"
      },
      "source": [
        "Añadir un nuevo valor."
      ]
    },
    {
      "cell_type": "code",
      "execution_count": 182,
      "id": "1df08735",
      "metadata": {
        "colab": {
          "base_uri": "https://localhost:8080/"
        },
        "id": "1df08735",
        "outputId": "b33edac4-319f-4e8e-9e42-6fd195d6fa8a"
      },
      "outputs": [
        {
          "output_type": "execute_result",
          "data": {
            "text/plain": [
              "{'clave_1': 1, 'clave_2': 'prueba', 'nuevo': 128}"
            ]
          },
          "metadata": {},
          "execution_count": 182
        }
      ],
      "source": [
        "dict_1['nuevo'] = 128\n",
        "dict_1"
      ]
    },
    {
      "cell_type": "markdown",
      "id": "01c29bec",
      "metadata": {
        "id": "01c29bec"
      },
      "source": [
        "Eliminar un valor."
      ]
    },
    {
      "cell_type": "code",
      "execution_count": 183,
      "id": "cf4ba573",
      "metadata": {
        "colab": {
          "base_uri": "https://localhost:8080/"
        },
        "id": "cf4ba573",
        "outputId": "37a056d1-b418-4368-85fa-567b713e5466"
      },
      "outputs": [
        {
          "output_type": "execute_result",
          "data": {
            "text/plain": [
              "128"
            ]
          },
          "metadata": {},
          "execution_count": 183
        }
      ],
      "source": [
        "dict_1.pop('nuevo')"
      ]
    },
    {
      "cell_type": "code",
      "execution_count": 184,
      "id": "afbc77bb-4555-47f5-8d0b-7bcca815d4e3",
      "metadata": {
        "colab": {
          "base_uri": "https://localhost:8080/"
        },
        "id": "afbc77bb-4555-47f5-8d0b-7bcca815d4e3",
        "outputId": "547dfc61-c142-4dd7-95b0-467aafff7a72"
      },
      "outputs": [
        {
          "output_type": "execute_result",
          "data": {
            "text/plain": [
              "{'clave_1': 1, 'clave_2': 'prueba'}"
            ]
          },
          "metadata": {},
          "execution_count": 184
        }
      ],
      "source": [
        "dict_1"
      ]
    },
    {
      "cell_type": "markdown",
      "id": "a9f0fa50",
      "metadata": {
        "id": "a9f0fa50"
      },
      "source": [
        "# Estructuras de control"
      ]
    },
    {
      "cell_type": "markdown",
      "id": "54ca4160",
      "metadata": {
        "id": "54ca4160"
      },
      "source": [
        "#### Condicionales"
      ]
    },
    {
      "cell_type": "code",
      "execution_count": 186,
      "id": "fae6f08b",
      "metadata": {
        "id": "fae6f08b"
      },
      "outputs": [],
      "source": [
        "precio = 1250\n",
        "sueldo = 1000\n",
        "ahorrado = 500"
      ]
    },
    {
      "cell_type": "code",
      "execution_count": 188,
      "id": "23b275e8",
      "metadata": {
        "colab": {
          "base_uri": "https://localhost:8080/"
        },
        "id": "23b275e8",
        "outputId": "0a8acf04-5895-4b93-d178-1f5c43d74511"
      },
      "outputs": [
        {
          "output_type": "stream",
          "name": "stdout",
          "text": [
            "No comprar\n"
          ]
        }
      ],
      "source": [
        "if precio <= sueldo:\n",
        "    print('Comprar')\n",
        "else:\n",
        "    print('No comprar')"
      ]
    },
    {
      "cell_type": "code",
      "execution_count": 189,
      "id": "babc4baf",
      "metadata": {
        "colab": {
          "base_uri": "https://localhost:8080/"
        },
        "id": "babc4baf",
        "outputId": "7b6202ab-c301-4963-8388-9fc3ba416c44"
      },
      "outputs": [
        {
          "output_type": "stream",
          "name": "stdout",
          "text": [
            "Comprar gastando lo ahorrado\n"
          ]
        }
      ],
      "source": [
        "if precio < sueldo:\n",
        "    print('Comprar')\n",
        "elif precio < sueldo + ahorrado:\n",
        "    print('Comprar gastando lo ahorrado')\n",
        "else:\n",
        "    print('No comprar')"
      ]
    },
    {
      "cell_type": "markdown",
      "id": "0610c5a6",
      "metadata": {
        "id": "0610c5a6"
      },
      "source": [
        "#### Bucle - for"
      ]
    },
    {
      "cell_type": "code",
      "execution_count": 190,
      "id": "23cda10d-a12d-4d6d-af75-90caafba3c8b",
      "metadata": {
        "colab": {
          "base_uri": "https://localhost:8080/"
        },
        "id": "23cda10d-a12d-4d6d-af75-90caafba3c8b",
        "outputId": "56d96e26-4100-4ce2-ee1b-d8646035f397"
      },
      "outputs": [
        {
          "output_type": "execute_result",
          "data": {
            "text/plain": [
              "[0, 1, 2]"
            ]
          },
          "metadata": {},
          "execution_count": 190
        }
      ],
      "source": [
        "list(range(3))"
      ]
    },
    {
      "cell_type": "code",
      "execution_count": 191,
      "id": "353e1d15",
      "metadata": {
        "colab": {
          "base_uri": "https://localhost:8080/"
        },
        "id": "353e1d15",
        "outputId": "fa18f25f-4840-43db-9588-562d0dde7092"
      },
      "outputs": [
        {
          "output_type": "stream",
          "name": "stdout",
          "text": [
            "0\n",
            "1\n",
            "2\n"
          ]
        }
      ],
      "source": [
        "for i in range(3):\n",
        "    print(i)"
      ]
    },
    {
      "cell_type": "code",
      "execution_count": 192,
      "id": "efdb3cc1",
      "metadata": {
        "colab": {
          "base_uri": "https://localhost:8080/"
        },
        "id": "efdb3cc1",
        "outputId": "dd3e002e-4453-45fe-c402-77c05ed6280f"
      },
      "outputs": [
        {
          "output_type": "stream",
          "name": "stdout",
          "text": [
            "100\n",
            "101\n",
            "102\n"
          ]
        }
      ],
      "source": [
        "for i in range(3):\n",
        "    print(100 + i)"
      ]
    },
    {
      "cell_type": "markdown",
      "id": "bd6fa54b",
      "metadata": {
        "id": "bd6fa54b"
      },
      "source": [
        "#### Bucle while"
      ]
    },
    {
      "cell_type": "code",
      "execution_count": 197,
      "id": "01e3ce05",
      "metadata": {
        "colab": {
          "base_uri": "https://localhost:8080/"
        },
        "id": "01e3ce05",
        "outputId": "be8d4956-805a-4e11-d6cf-54a0db386a25"
      },
      "outputs": [
        {
          "output_type": "stream",
          "name": "stdout",
          "text": [
            "Estamos en la vuelta  0\n",
            "Estamos en la vuelta  1\n",
            "Estamos en la vuelta  2\n",
            "Estamos en la vuelta  3\n",
            "Estamos en la vuelta  4\n",
            "Estamos en la vuelta  5\n",
            "Estamos en la vuelta  6\n",
            "Estamos en la vuelta  7\n",
            "Estamos en la vuelta  8\n",
            "Estamos en la vuelta  9\n",
            "hola\n"
          ]
        }
      ],
      "source": [
        "cont = 0\n",
        "while cont < 10:\n",
        "    print('Estamos en la vuelta ', cont)\n",
        "    cont += 1\n",
        "print('hola')"
      ]
    },
    {
      "cell_type": "code",
      "execution_count": 198,
      "id": "886d544a-9a58-44f1-a6b6-49a67c7ad9a2",
      "metadata": {
        "colab": {
          "base_uri": "https://localhost:8080/"
        },
        "id": "886d544a-9a58-44f1-a6b6-49a67c7ad9a2",
        "outputId": "96ca31ed-9904-4c5e-b2ff-aae2eb4f9582"
      },
      "outputs": [
        {
          "output_type": "stream",
          "name": "stdout",
          "text": [
            "Estamos en la vuelta  0\n",
            "hola\n",
            "Estamos en la vuelta  1\n",
            "hola\n",
            "Estamos en la vuelta  2\n",
            "hola\n",
            "Estamos en la vuelta  3\n",
            "hola\n",
            "Estamos en la vuelta  4\n",
            "hola\n",
            "Estamos en la vuelta  5\n",
            "hola\n",
            "Estamos en la vuelta  6\n",
            "hola\n",
            "Estamos en la vuelta  7\n",
            "hola\n",
            "Estamos en la vuelta  8\n",
            "hola\n",
            "Estamos en la vuelta  9\n",
            "hola\n"
          ]
        }
      ],
      "source": [
        "cont = 0\n",
        "while cont < 10:\n",
        "    print('Estamos en la vuelta ', cont)\n",
        "    cont += 1\n",
        "    print('hola')"
      ]
    },
    {
      "cell_type": "markdown",
      "id": "4c69a12d",
      "metadata": {
        "id": "4c69a12d"
      },
      "source": [
        "#### Funciones"
      ]
    },
    {
      "cell_type": "code",
      "execution_count": 199,
      "id": "e3c1ee85",
      "metadata": {
        "id": "e3c1ee85"
      },
      "outputs": [],
      "source": [
        "def funcion_prueba(num1, num2):\n",
        "    resultado = num1 + num2\n",
        "    return resultado"
      ]
    },
    {
      "cell_type": "code",
      "execution_count": 200,
      "id": "a99c2727",
      "metadata": {
        "colab": {
          "base_uri": "https://localhost:8080/"
        },
        "id": "a99c2727",
        "outputId": "aab54555-7300-41d0-d35f-909fced92ea8"
      },
      "outputs": [
        {
          "output_type": "execute_result",
          "data": {
            "text/plain": [
              "15"
            ]
          },
          "metadata": {},
          "execution_count": 200
        }
      ],
      "source": [
        "funcion_prueba(5, 10)"
      ]
    },
    {
      "cell_type": "code",
      "execution_count": 201,
      "id": "c2533017-3fdc-4bf1-ba99-2460f8b50755",
      "metadata": {
        "colab": {
          "base_uri": "https://localhost:8080/"
        },
        "id": "c2533017-3fdc-4bf1-ba99-2460f8b50755",
        "outputId": "aab15782-0d4a-4019-c369-37e1a49a8f8f"
      },
      "outputs": [
        {
          "output_type": "execute_result",
          "data": {
            "text/plain": [
              "10"
            ]
          },
          "metadata": {},
          "execution_count": 201
        }
      ],
      "source": [
        "funcion_prueba(3, 7)"
      ]
    }
  ],
  "metadata": {
    "colab": {
      "collapsed_sections": [
        "79143143",
        "b8b25a14",
        "9c677f14",
        "90c6c9d5",
        "8c559082",
        "16b2d8b0",
        "2d94d091",
        "2b2d51c1",
        "82bb94a9",
        "d341eb38",
        "54ca4160",
        "0610c5a6",
        "bd6fa54b",
        "4c69a12d"
      ],
      "provenance": []
    },
    "kernelspec": {
      "display_name": "Python 3 (ipykernel)",
      "language": "python",
      "name": "python3"
    },
    "language_info": {
      "codemirror_mode": {
        "name": "ipython",
        "version": 3
      },
      "file_extension": ".py",
      "mimetype": "text/x-python",
      "name": "python",
      "nbconvert_exporter": "python",
      "pygments_lexer": "ipython3",
      "version": "3.12.6"
    }
  },
  "nbformat": 4,
  "nbformat_minor": 5
}